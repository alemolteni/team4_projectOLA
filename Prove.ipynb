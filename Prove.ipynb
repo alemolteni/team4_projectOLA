{
 "cells": [
  {
   "cell_type": "code",
   "execution_count": 4,
   "metadata": {
    "pycharm": {
     "name": "#%%\n"
    }
   },
   "outputs": [
    {
     "name": "stdout",
     "output_type": "stream",
     "text": [
      "(array([4], dtype=int64),) 23\n"
     ]
    }
   ],
   "source": [
    "import numpy as np\n",
    "aa = np.array([1,4,6,9,23])\n",
    "\n",
    "result = np.where(aa == np.amax(aa))\n",
    "print(result, np.amax(aa))"
   ]
  },
  {
   "cell_type": "code",
   "execution_count": 11,
   "metadata": {
    "pycharm": {
     "name": "#%%\n"
    }
   },
   "outputs": [
    {
     "data": {
      "text/plain": "(array([], dtype=int64),)"
     },
     "execution_count": 11,
     "metadata": {},
     "output_type": "execute_result"
    }
   ],
   "source": [
    "import numpy as np\n",
    "aa = np.array([1,4,6,4,23])\n",
    "np.where(aa == 5)"
   ]
  },
  {
   "cell_type": "code",
   "execution_count": 3,
   "metadata": {
    "pycharm": {
     "name": "#%%\n"
    }
   },
   "outputs": [],
   "source": [
    "from Model.InteractionNode import InteractionNode"
   ]
  },
  {
   "cell_type": "code",
   "execution_count": 17,
   "metadata": {
    "pycharm": {
     "name": "#%%\n"
    }
   },
   "outputs": [
    {
     "name": "stdout",
     "output_type": "stream",
     "text": [
      "===\n",
      "Product=2, PriceLevel=3, Bought=Si, #Units=45\n",
      "\n",
      "USER INTERACTIONS: \n",
      "╚═ Product=1, PriceLevel=2, Bought=Yes, #Units=34\n",
      "  ╚═ Product=3, PriceLevel=4, Bought=No, #Units=0\n",
      "  ╚═ Product=2, PriceLevel=1, Bought=No, #Units=0\n"
     ]
    }
   ],
   "source": [
    "print(\"===\")\n",
    "print(\"Product={}, PriceLevel={}, Bought={}, #Units={}\".format(2,3,\"Si\",45))\n",
    "\n",
    "\n",
    "l21 = InteractionNode(3, 4, 0, 0, [])\n",
    "l22 = InteractionNode(2, 1, 0, 0, [])\n",
    "l1 = InteractionNode(1, 2, 1, 34, [l21,l22])\n",
    "\n",
    "l1.printInteractions()"
   ]
  },
  {
   "cell_type": "code",
   "execution_count": 19,
   "metadata": {
    "pycharm": {
     "name": "#%%\n"
    }
   },
   "outputs": [
    {
     "data": {
      "text/plain": [
       "0.27985094518957787"
      ]
     },
     "execution_count": 19,
     "metadata": {},
     "output_type": "execute_result"
    }
   ],
   "source": [
    "import numpy as np\n",
    "np.random.uniform(low=0.0, high=1.0, size=None)"
   ]
  },
  {
   "cell_type": "code",
   "execution_count": null,
   "metadata": {
    "pycharm": {
     "name": "#%%\n",
     "is_executing": true
    }
   },
   "outputs": [],
   "source": [
    "import pprint\n",
    "import sys\n",
    "import unittest\n",
    "from Model.GraphProbabilities import GraphProbabilities\n",
    "from Model.Product import Product\n",
    "from Model.UserClass import UserClass\n",
    "from Model.constants import PROBABILITY_MATRIX, SECONDARY_PRODUCTS\n",
    "\n",
    "id = 0\n",
    "conversionRate = [\n",
    "    [1, 0.3, 0.9, 0.2],\n",
    "    [1, .2, .56, .12],\n",
    "    [1, .34, .57, .88],\n",
    "    [1, .2, .56, .12],\n",
    "    [1, 0.9, 0.17, 0.96]\n",
    "]\n",
    "\n",
    "PROBABILITY_MATRIX_3 = [[0, 1, 1, 0, 0],\n",
    "                      [0.8, 0, 0, 0.9, 0],\n",
    "                      [0, 1, 0, 0.7, 0],\n",
    "                      [0.9, 0, 0, 0, 0],\n",
    "                      [0, 0, 0, 0, 0]]\n",
    "clickProbability = GraphProbabilities(PROBABILITY_MATRIX_3)\n",
    "alphas = [1,0,0,0,0]\n",
    "\n",
    "n_bought_mean = 2\n",
    "n_bought_variance = 1\n",
    "n_user_mean = 10\n",
    "n_user_variance = 1\n",
    "\n",
    "productList = [Product(int(key), SECONDARY_PRODUCTS[key]) for key in SECONDARY_PRODUCTS]\n",
    "\n",
    "Lambda = 1\n",
    "\n",
    "userClass = UserClass(id=id, conversionRate=conversionRate, clickProbability=clickProbability, alphas=alphas,\n",
    "                        Lambda=Lambda, n_bought_variance=n_bought_variance, n_bought_mean=n_bought_mean,\n",
    "                        n_user_mean=n_user_mean, n_user_variance=n_user_variance, productList=productList,\n",
    "                        features_generator=[{\"name\":\"Over 18\",\"probability\":0.6},{\"name\":\"Male\",\"probability\":0.9}],\n",
    "                        debug=False)\n",
    "\n",
    "# pp = pprint.PrettyPrinter(indent=4)\n",
    "# pp.pprint(userClass.__dict__)\n",
    "\n",
    "currentPrice = [0, 0, 0, 0, 0]\n",
    "userClass.setCurrentPrice(currentPrice)\n",
    "\n",
    "userInteractions = userClass.generateEpisode()\n",
    "userInteractions.printInteractions()"
   ]
  },
  {
   "cell_type": "code",
   "execution_count": null,
   "outputs": [],
   "source": [
    "def yummy(time, env):\n",
    "    print(\"Time: {}\".format(time))\n",
    "    print(\"Env: {}\".format(env.Lambda))\n",
    "from Environment import Environment\n",
    "e = Environment(0.3, [userClass])\n",
    "e.addTimeListener(2, yummy)\n",
    "e.addTimeListener(2, yummy)\n",
    "e.round()"
   ],
   "metadata": {
    "collapsed": false,
    "pycharm": {
     "name": "#%%\n"
    }
   }
  },
  {
   "cell_type": "code",
   "execution_count": null,
   "outputs": [],
   "source": [],
   "metadata": {
    "collapsed": false,
    "pycharm": {
     "name": "#%%\n"
    }
   }
  }
 ],
 "metadata": {
  "interpreter": {
   "hash": "bc987af2bfe8a320e37dc50b63a6ae872aba251cefb872bb0fb845a29bbd1417"
  },
  "kernelspec": {
   "display_name": "Python 3.9.12 64-bit (windows store)",
   "language": "python",
   "name": "python3"
  },
  "language_info": {
   "codemirror_mode": {
    "name": "ipython",
    "version": 3
   },
   "file_extension": ".py",
   "mimetype": "text/x-python",
   "name": "python",
   "nbconvert_exporter": "python",
   "pygments_lexer": "ipython3",
   "version": "3.9.12"
  },
  "orig_nbformat": 4
 },
 "nbformat": 4,
 "nbformat_minor": 2
}