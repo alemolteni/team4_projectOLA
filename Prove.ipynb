{
 "cells": [
  {
   "cell_type": "code",
   "execution_count": 29,
   "metadata": {
    "pycharm": {
     "name": "#%%\n"
    }
   },
   "outputs": [
    {
     "data": {
      "text/plain": [
       "[1, 2, 3, 4, 5, 6]"
      ]
     },
     "execution_count": 29,
     "metadata": {},
     "output_type": "execute_result"
    }
   ],
   "source": [
    "[1,2,3] + [4,5,6]"
   ]
  },
  {
   "cell_type": "code",
   "execution_count": 13,
   "metadata": {
    "pycharm": {
     "name": "#%%\n"
    }
   },
   "outputs": [
    {
     "name": "stdout",
     "output_type": "stream",
     "text": [
      "[[0 0 0]\n",
      " [0 1 0]\n",
      " [0 0 0]]\n"
     ]
    }
   ],
   "source": [
    "import numpy as np\n",
    "\n",
    "lambda_mat = np.full((3,3), 0)\n",
    "lambda_mat[1,1] = 1\n",
    "print(lambda_mat)"
   ]
  },
  {
   "cell_type": "code",
   "execution_count": 3,
   "metadata": {
    "pycharm": {
     "name": "#%%\n"
    }
   },
   "outputs": [],
   "source": [
    "from Model.InteractionNode import InteractionNode"
   ]
  },
  {
   "cell_type": "code",
   "execution_count": 17,
   "metadata": {
    "pycharm": {
     "name": "#%%\n"
    }
   },
   "outputs": [
    {
     "name": "stdout",
     "output_type": "stream",
     "text": [
      "===\n",
      "Product=2, PriceLevel=3, Bought=Si, #Units=45\n",
      "\n",
      "USER INTERACTIONS: \n",
      "╚═ Product=1, PriceLevel=2, Bought=Yes, #Units=34\n",
      "  ╚═ Product=3, PriceLevel=4, Bought=No, #Units=0\n",
      "  ╚═ Product=2, PriceLevel=1, Bought=No, #Units=0\n"
     ]
    }
   ],
   "source": [
    "print(\"===\")\n",
    "print(\"Product={}, PriceLevel={}, Bought={}, #Units={}\".format(2,3,\"Si\",45))\n",
    "\n",
    "\n",
    "l21 = InteractionNode(3, 4, 0, 0, [])\n",
    "l22 = InteractionNode(2, 1, 0, 0, [])\n",
    "l1 = InteractionNode(1, 2, 1, 34, [l21,l22])\n",
    "\n",
    "l1.printInteractions()"
   ]
  },
  {
   "cell_type": "code",
   "execution_count": 19,
   "metadata": {
    "pycharm": {
     "name": "#%%\n"
    }
   },
   "outputs": [
    {
     "data": {
      "text/plain": [
       "0.27985094518957787"
      ]
     },
     "execution_count": 19,
     "metadata": {},
     "output_type": "execute_result"
    }
   ],
   "source": [
    "import numpy as np\n",
    "np.random.uniform(low=0.0, high=1.0, size=None)"
   ]
  },
  {
   "cell_type": "code",
   "execution_count": null,
   "metadata": {
    "pycharm": {
     "is_executing": true,
     "name": "#%%\n"
    }
   },
   "outputs": [],
   "source": [
    "import pprint\n",
    "import sys\n",
    "import unittest\n",
    "from Model.GraphProbabilities import GraphProbabilities\n",
    "from Model.Product import Product\n",
    "from Model.UserClass import UserClass\n",
    "from Model.constants import PROBABILITY_MATRIX, SECONDARY_PRODUCTS\n",
    "\n",
    "id = 0\n",
    "conversionRate = [\n",
    "    [1, 0.3, 0.9, 0.2],\n",
    "    [1, .2, .56, .12],\n",
    "    [1, .34, .57, .88],\n",
    "    [1, .2, .56, .12],\n",
    "    [1, 0.9, 0.17, 0.96]\n",
    "]\n",
    "\n",
    "PROBABILITY_MATRIX_3 = [[0, 1, 1, 0, 0],\n",
    "                      [0.8, 0, 0, 0.9, 0],\n",
    "                      [0, 1, 0, 0.7, 0],\n",
    "                      [0.9, 0, 0, 0, 0],\n",
    "                      [0, 0, 0, 0, 0]]\n",
    "clickProbability = GraphProbabilities(PROBABILITY_MATRIX_3)\n",
    "alphas = [1,0,0,0,0]\n",
    "\n",
    "n_bought_mean = 2\n",
    "n_bought_variance = 1\n",
    "n_user_mean = 10\n",
    "n_user_variance = 1\n",
    "\n",
    "productList = [Product(int(key), SECONDARY_PRODUCTS[key]) for key in SECONDARY_PRODUCTS]\n",
    "\n",
    "Lambda = 1\n",
    "\n",
    "userClass = UserClass(id=id, conversionRate=conversionRate, clickProbability=clickProbability, alphas=alphas,\n",
    "                        Lambda=Lambda, n_bought_variance=n_bought_variance, n_bought_mean=n_bought_mean,\n",
    "                        n_user_mean=n_user_mean, n_user_variance=n_user_variance, productList=productList,\n",
    "                        features_generator=[{\"name\":\"Over 18\",\"probability\":0.6},{\"name\":\"Male\",\"probability\":0.9}],\n",
    "                        debug=False)\n",
    "\n",
    "# pp = pprint.PrettyPrinter(indent=4)\n",
    "# pp.pprint(userClass.__dict__)\n",
    "\n",
    "currentPrice = [0, 0, 0, 0, 0]\n",
    "userClass.setCurrentPrice(currentPrice)\n",
    "\n",
    "userInteractions = userClass.generateEpisode()\n",
    "userInteractions.printInteractions()"
   ]
  },
  {
   "cell_type": "code",
   "execution_count": null,
   "metadata": {
    "collapsed": false,
    "pycharm": {
     "name": "#%%\n"
    }
   },
   "outputs": [],
   "source": [
    "def yummy(time, env):\n",
    "    print(\"Time: {}\".format(time))\n",
    "    print(\"Env: {}\".format(env.Lambda))\n",
    "from Environment import Environment\n",
    "e = Environment(0.3, [userClass])\n",
    "e.addTimeListener(2, yummy)\n",
    "e.addTimeListener(2, yummy)\n",
    "e.round()"
   ]
  },
  {
   "cell_type": "code",
   "execution_count": null,
   "metadata": {},
   "outputs": [],
   "source": []
  },
  {
   "cell_type": "code",
   "execution_count": 34,
   "metadata": {
    "collapsed": false,
    "pycharm": {
     "name": "#%%\n"
    }
   },
   "outputs": [],
   "source": [
    "class StepNode:\n",
    "    def __init__(self, product, paths=[], graph_prob=None):\n",
    "        self.paths=paths\n",
    "        self.product = product\n",
    "        self.feasible_paths = []\n",
    "        self.graph_prob = graph_prob\n",
    "        productIndex = product\n",
    "        for i in range(0,len(paths)):\n",
    "            path = np.array(paths[i])\n",
    "            if np.any(path[:] == product) == False:\n",
    "                path = np.append(path, productIndex)\n",
    "                self.feasible_paths.append(path.tolist())\n",
    "        \n",
    "        \n",
    "    def computeProbability(self):\n",
    "        paths_prob = []\n",
    "        # Compute probability of each path\n",
    "        for i in range(0,len(self.feasible_paths)):\n",
    "            path = self.feasible_paths[i]\n",
    "            prob = 1\n",
    "            print(\"Path indexes for product {} : {}\".format(self.product, path))\n",
    "            for k in range(0,len(path)-1):\n",
    "                prob = prob * self.graph_prob.getEdgeProbability(path[k],path[k+1])\n",
    "            paths_prob.append(prob)\n",
    "        # Merge all paths prob by using OR, P(path1 OR path2) = 1 - (1 - P(path1)) * (1 - P(path2))\n",
    "        inverse_prob = 1\n",
    "        for i in range(0,len(paths_prob)):\n",
    "            inverse_prob = inverse_prob * (1 - paths_prob[i])\n",
    "        return 1 - inverse_prob\n",
    "\n",
    "    def merge(self, node):\n",
    "        if self.product != node.product:\n",
    "            return\n",
    "        # Concatenate the two lists\n",
    "        self.feasible_paths += node.feasible_paths\n",
    "        return self\n",
    "\n",
    "    def expand(self):\n",
    "        n_products = self.graph_prob.shape()[0]\n",
    "        next_nodes = []\n",
    "        for i in range(0,n_products):\n",
    "            if self.graph_prob.getEdgeProbability(self.product,i) > 0 :\n",
    "                next_nodes.append(StepNode(i,paths=self.feasible_paths,graph_prob=self.graph_prob))\n",
    "        return next_nodes\n",
    "    \n",
    "    def isFeasible(self):\n",
    "        return len(self.feasible_paths) != 0\n",
    "        "
   ]
  },
  {
   "cell_type": "code",
   "execution_count": 37,
   "metadata": {},
   "outputs": [],
   "source": [
    "from Model.GraphProbabilities import GraphProbabilities\n",
    "from Model.Product import Product\n",
    "import numpy as np\n",
    "\n",
    "\n",
    "class EvaluationAlgorithm:\n",
    "    def __init__(self, products_list=[], click_prob_matrix=None, lambda_prob=0.5, conversion_rates=[], \n",
    "                alphas=[], margins=[], verbose=False):\n",
    "        assert len(products_list) == len(conversion_rates) and len(products_list) == len(alphas)\n",
    "        assert len(products_list) == len(margins)\n",
    "        assert click_prob_matrix is not None\n",
    "\n",
    "        self.products_list = products_list\n",
    "        self.lambda_prob = lambda_prob\n",
    "        self.conversion_rates = np.array(conversion_rates)\n",
    "        self.n_products = len(products_list)\n",
    "        self.alphas = np.array(alphas)\n",
    "        self.margins = np.array(margins)\n",
    "        self.verbose = verbose\n",
    "        lambda_mat = np.full((self.n_products,self.n_products), 0, dtype=float)\n",
    "        for i in range(0,len(products_list)):\n",
    "            assert i == products_list[i].getProductNumber()\n",
    "            endFirst = products_list[i].getSecondaryProduct(0)\n",
    "            endSecond = products_list[i].getSecondaryProduct(1)\n",
    "            # if verbose: print(\"Coordinates {},{} ----- {},{}\".format(i,endFirst,i,endSecond))\n",
    "            lambda_mat[i][endFirst] = 1\n",
    "            lambda_mat[i][endSecond] = lambda_prob\n",
    "        #if verbose: print(lambda_mat)\n",
    "        \n",
    "        conv_mat = []\n",
    "        for i in range(0,len(conversion_rates)):\n",
    "            conv_mat.append(np.full((len(products_list)), conversion_rates[i]).tolist())\n",
    "        #if verbose: print(conv_mat)\n",
    "        \n",
    "        w_matrix = GraphProbabilities(click_prob_matrix)\n",
    "        lambda_matrix = GraphProbabilities(lambda_mat.tolist())\n",
    "        conversion_matrix = GraphProbabilities(conv_mat)\n",
    "\n",
    "        y_matrix = w_matrix.multiplyElementWise(lambda_matrix)\n",
    "        self.y_matrix = y_matrix.multiplyElementWise(conversion_matrix)\n",
    "        if verbose: print(self.y_matrix.weightMatrix)\n",
    "\n",
    "    def computeSingleProduct(self, product):\n",
    "        firstNode = StepNode(product, [np.array([], dtype=int)], graph_prob=y_matrix)\n",
    "        nodes=[firstNode]\n",
    "        inverse_prob = np.full((len(self.products_list)), 1)\n",
    "        # Iterate for #steps times\n",
    "        for i in range(0, len(self.products_list)-1):\n",
    "            # Next nodes\n",
    "            product_nodes = np.full((len(self.products_list)), None)\n",
    "            for k in range(0,len(nodes)):\n",
    "                node = nodes[k]\n",
    "                following = node.expand()\n",
    "                for j in range(0,len(following)):\n",
    "                    if following[j].isFeasible() == True:\n",
    "                        if product_nodes[following[j].product] is not None:\n",
    "                            product_nodes[following[j].product].merge(following[j])\n",
    "                        else:\n",
    "                            product_nodes[following[j].product] = following[j]\n",
    "            \n",
    "            # Remove None elements\n",
    "            existing_nodes = product_nodes[product_nodes != np.array(None)]\n",
    "            reached_nodes = \"\"\n",
    "            for k in range(0,len(existing_nodes)):\n",
    "                index = existing_nodes[k].product\n",
    "                reached_nodes = reached_nodes + str(index) + \"; \"\n",
    "                # existing_nodes[k].computeProbability() is the probability of visiting \"index\" in (i+1)-steps\n",
    "                inverse_prob[index] = inverse_prob[index] * (1 - existing_nodes[k].computeProbability())\n",
    "            if self.verbose: print(\"Reached nodes in {}-step: {}\".format(i+1,reached_nodes))\n",
    "            nodes = existing_nodes\n",
    "        # Probability of visiting product\n",
    "        return  1 - inverse_prob \n",
    "\n",
    "    def computeMargin(self):\n",
    "        single_margins = np.full((len(self.products_list)), 0)\n",
    "        for i in range(0,len(self.products_list)):\n",
    "            visiting_prob = self.computeSingleProduct(i)\n",
    "            # Margin if alpha = [1 0 0 0 0]\n",
    "            single_margins[i] = np.multiply(visiting_prob,np.multiply(self.margins,self.conversion_rates)).sum()\n",
    "            if self.verbose: print(\"Expected value margin for product {} as starting is {} \\n\".format(i, single_margins[i]))\n",
    "        # Weight the single margin by alpha\n",
    "        return np.multiply(single_margins, alphas).sum()\n",
    "            "
   ]
  },
  {
   "cell_type": "code",
   "execution_count": 40,
   "metadata": {},
   "outputs": [
    {
     "name": "stdout",
     "output_type": "stream",
     "text": [
      "[[0.0, 0.6480000000000001, 0.19845, 0.0, 0.0], [0.0, 0.0, 0.0, 0.121086, 0.30752], [0.0, 0.23533999999999997, 0.0, 0.5043, 0.0], [0.09878400000000002, 0.0, 0.0, 0.0, 0.25715200000000005], [0.0, 0.0, 0.736368, 0.2725408, 0.0]]\n",
      "Path indexes for product 1 : [0, 1]\n",
      "Path indexes for product 2 : [0, 2]\n",
      "Reached nodes in 1-step: 1; 2; \n",
      "Path indexes for product 1 : [0, 2, 1]\n",
      "Path indexes for product 3 : [0, 1, 3]\n",
      "Path indexes for product 3 : [0, 2, 3]\n",
      "Path indexes for product 4 : [0, 1, 4]\n",
      "Reached nodes in 2-step: 1; 3; 4; \n",
      "Path indexes for product 2 : [0, 1, 4, 2]\n",
      "Path indexes for product 3 : [0, 2, 1, 3]\n",
      "Path indexes for product 3 : [0, 1, 4, 3]\n",
      "Path indexes for product 4 : [0, 2, 1, 4]\n",
      "Path indexes for product 4 : [0, 1, 3, 4]\n",
      "Path indexes for product 4 : [0, 2, 3, 4]\n",
      "Reached nodes in 3-step: 2; 3; 4; \n",
      "Path indexes for product 2 : [0, 1, 3, 4, 2]\n",
      "Path indexes for product 3 : [0, 1, 4, 2, 3]\n",
      "Path indexes for product 3 : [0, 2, 1, 4, 3]\n",
      "Path indexes for product 4 : [0, 2, 1, 3, 4]\n",
      "Reached nodes in 4-step: 2; 3; 4; \n",
      "Expected value margin for product 0 as starting is 26 \n",
      "\n",
      "Path indexes for product 3 : [1, 3]\n",
      "Path indexes for product 4 : [1, 4]\n",
      "Reached nodes in 1-step: 3; 4; \n",
      "Path indexes for product 0 : [1, 3, 0]\n",
      "Path indexes for product 2 : [1, 4, 2]\n",
      "Path indexes for product 3 : [1, 4, 3]\n",
      "Path indexes for product 4 : [1, 3, 4]\n",
      "Reached nodes in 2-step: 0; 2; 3; 4; \n",
      "Path indexes for product 0 : [1, 4, 3, 0]\n",
      "Path indexes for product 2 : [1, 3, 0, 2]\n",
      "Path indexes for product 2 : [1, 3, 4, 2]\n",
      "Path indexes for product 3 : [1, 4, 2, 3]\n",
      "Reached nodes in 3-step: 0; 2; 3; \n",
      "Path indexes for product 0 : [1, 4, 2, 3, 0]\n",
      "Path indexes for product 2 : [1, 4, 3, 0, 2]\n",
      "Reached nodes in 4-step: 0; 2; \n",
      "Expected value margin for product 1 as starting is 33 \n",
      "\n",
      "Path indexes for product 1 : [2, 1]\n",
      "Path indexes for product 3 : [2, 3]\n",
      "Reached nodes in 1-step: 1; 3; \n",
      "Path indexes for product 0 : [2, 3, 0]\n",
      "Path indexes for product 3 : [2, 1, 3]\n",
      "Path indexes for product 4 : [2, 1, 4]\n",
      "Path indexes for product 4 : [2, 3, 4]\n",
      "Reached nodes in 2-step: 0; 3; 4; \n",
      "Path indexes for product 0 : [2, 1, 3, 0]\n",
      "Path indexes for product 1 : [2, 3, 0, 1]\n",
      "Path indexes for product 3 : [2, 1, 4, 3]\n",
      "Path indexes for product 4 : [2, 1, 3, 4]\n",
      "Reached nodes in 3-step: 0; 1; 3; 4; \n",
      "Path indexes for product 0 : [2, 1, 4, 3, 0]\n",
      "Path indexes for product 4 : [2, 3, 0, 1, 4]\n",
      "Reached nodes in 4-step: 0; 4; \n",
      "Expected value margin for product 2 as starting is 30 \n",
      "\n",
      "Path indexes for product 0 : [3, 0]\n",
      "Path indexes for product 4 : [3, 4]\n",
      "Reached nodes in 1-step: 0; 4; \n",
      "Path indexes for product 1 : [3, 0, 1]\n",
      "Path indexes for product 2 : [3, 0, 2]\n",
      "Path indexes for product 2 : [3, 4, 2]\n",
      "Reached nodes in 2-step: 1; 2; \n",
      "Path indexes for product 1 : [3, 0, 2, 1]\n",
      "Path indexes for product 1 : [3, 4, 2, 1]\n",
      "Path indexes for product 4 : [3, 0, 1, 4]\n",
      "Reached nodes in 3-step: 1; 4; \n",
      "Path indexes for product 2 : [3, 0, 1, 4, 2]\n",
      "Path indexes for product 4 : [3, 0, 2, 1, 4]\n",
      "Reached nodes in 4-step: 2; 4; \n",
      "Expected value margin for product 3 as starting is 27 \n",
      "\n",
      "Path indexes for product 2 : [4, 2]\n",
      "Path indexes for product 3 : [4, 3]\n",
      "Reached nodes in 1-step: 2; 3; \n",
      "Path indexes for product 0 : [4, 3, 0]\n",
      "Path indexes for product 1 : [4, 2, 1]\n",
      "Path indexes for product 3 : [4, 2, 3]\n",
      "Reached nodes in 2-step: 0; 1; 3; \n",
      "Path indexes for product 0 : [4, 2, 3, 0]\n",
      "Path indexes for product 1 : [4, 3, 0, 1]\n",
      "Path indexes for product 2 : [4, 3, 0, 2]\n",
      "Path indexes for product 3 : [4, 2, 1, 3]\n",
      "Reached nodes in 3-step: 0; 1; 2; 3; \n",
      "Path indexes for product 0 : [4, 2, 1, 3, 0]\n",
      "Path indexes for product 1 : [4, 2, 3, 0, 1]\n",
      "Path indexes for product 1 : [4, 3, 0, 2, 1]\n",
      "Reached nodes in 4-step: 0; 1; \n",
      "Expected value margin for product 4 as starting is 33 \n",
      "\n",
      "Expected profit over all interactions: 30.1\n",
      "Expected profit over single products: 7.252\n"
     ]
    }
   ],
   "source": [
    "from Model.GraphProbabilities import GraphProbabilities\n",
    "from Model.Product import Product\n",
    "from Model.UserClass import UserClass\n",
    "import numpy as np\n",
    "\n",
    "CLICK_PROB = [[0, .8, .7, 0, 0],\n",
    "            [0, 0, 0, .9, .8],\n",
    "            [0, 1, 0, .75, 0],\n",
    "            [.9, 0, 0, 0, .82],\n",
    "            [0, 0, .87, .92, 0]]\n",
    "L = 0.5\n",
    "LAMBDA_MATRIX = [[0, 1, L, 0, 0],\n",
    "                [0, 0, 0, L, 1],\n",
    "                [0, L, 0, 1, 0],\n",
    "                [L, 0, 0, 0, 1],\n",
    "                [0, 0, 1, L, 0]]\n",
    "conversionRate = [\n",
    "    [0.9, 0.9, 0.9, 0.9, 0.9],\n",
    "    [.62, .62, .62, .62, .62],\n",
    "    [.82, .82, .82, .82, .82],\n",
    "    [.56, .56, .56, .56, .56],\n",
    "    [.92, 0.92, 0.92, 0.92, .92]\n",
    "]\n",
    "convRates = [.9, .62, .82, .56, .92]\n",
    "alphas = [0.2, 0.1, 0.3, 0.1, 0.3]\n",
    "SECONDARY_PRODUCTS = {'0': [1, 2], '1': [4, 3], '2': [3, 1], '3': [4, 0], '4': [2, 3]}\n",
    "margins = [12,7,9,19,5]\n",
    "\n",
    "w_matrix = GraphProbabilities(CLICK_PROB)\n",
    "lambda_matrix = GraphProbabilities(LAMBDA_MATRIX)\n",
    "conv_matrix = GraphProbabilities(conversionRate)\n",
    "y_matrix = w_matrix.multiplyElementWise(lambda_matrix)\n",
    "y_matrix = y_matrix.multiplyElementWise(conv_matrix)\n",
    "\n",
    "productList = [Product(int(key), SECONDARY_PRODUCTS[key]) for key in SECONDARY_PRODUCTS]\n",
    "eval = EvaluationAlgorithm(products_list=productList, click_prob_matrix=CLICK_PROB, lambda_prob=0.7, conversion_rates=convRates,\n",
    "                    alphas=alphas, margins=margins, verbose=True)\n",
    "print(\"Expected profit over all interactions: {}\".format(eval.computeMargin()))\n",
    "\n",
    "profitSingle = np.multiply(np.array(alphas),np.multiply(np.array(margins),np.array(convRates))).sum()\n",
    "print(\"Expected profit over single products: {}\".format(profitSingle))"
   ]
  }
 ],
 "metadata": {
  "interpreter": {
   "hash": "bc987af2bfe8a320e37dc50b63a6ae872aba251cefb872bb0fb845a29bbd1417"
  },
  "kernelspec": {
   "display_name": "Python 3.9.12 64-bit (windows store)",
   "language": "python",
   "name": "python3"
  },
  "language_info": {
   "codemirror_mode": {
    "name": "ipython",
    "version": 3
   },
   "file_extension": ".py",
   "mimetype": "text/x-python",
   "name": "python",
   "nbconvert_exporter": "python",
   "pygments_lexer": "ipython3",
   "version": "3.9.12"
  },
  "orig_nbformat": 4
 },
 "nbformat": 4,
 "nbformat_minor": 2
}
