{
 "cells": [
  {
   "cell_type": "code",
   "execution_count": 4,
   "metadata": {},
   "outputs": [
    {
     "data": {
      "text/plain": [
       "0"
      ]
     },
     "execution_count": 4,
     "metadata": {},
     "output_type": "execute_result"
    }
   ],
   "source": [
    "aa = np.array([1,4,6,9,23])\n",
    "np.argmax(aa>24)"
   ]
  },
  {
   "cell_type": "code",
   "execution_count": 3,
   "metadata": {},
   "outputs": [
    {
     "data": {
      "text/plain": [
       "(array([], dtype=int64),)"
      ]
     },
     "execution_count": 3,
     "metadata": {},
     "output_type": "execute_result"
    }
   ],
   "source": [
    "import numpy as np\n",
    "aa = np.array([1,4,6,4,23])\n",
    "np.where(aa == 5)"
   ]
  },
  {
   "cell_type": "code",
   "execution_count": 12,
   "metadata": {},
   "outputs": [],
   "source": [
    "from Model.InteractionNode import InteractionNode"
   ]
  },
  {
   "cell_type": "code",
   "execution_count": 17,
   "metadata": {},
   "outputs": [
    {
     "name": "stdout",
     "output_type": "stream",
     "text": [
      "===\n",
      "Product=2, PriceLevel=3, Bought=Si, #Units=45\n",
      "\n",
      "USER INTERACTIONS: \n",
      "╚═ Product=1, PriceLevel=2, Bought=Yes, #Units=34\n",
      "  ╚═ Product=3, PriceLevel=4, Bought=No, #Units=0\n",
      "  ╚═ Product=2, PriceLevel=1, Bought=No, #Units=0\n"
     ]
    }
   ],
   "source": [
    "print(\"===\")\n",
    "print(\"Product={}, PriceLevel={}, Bought={}, #Units={}\".format(2,3,\"Si\",45))\n",
    "\n",
    "\n",
    "l21 = InteractionNode(3, 4, 0, 0, [])\n",
    "l22 = InteractionNode(2, 1, 0, 0, [])\n",
    "l1 = InteractionNode(1, 2, 1, 34, [l21,l22])\n",
    "\n",
    "l1.printInteractions()"
   ]
  },
  {
   "cell_type": "code",
   "execution_count": 19,
   "metadata": {},
   "outputs": [
    {
     "data": {
      "text/plain": [
       "0.27985094518957787"
      ]
     },
     "execution_count": 19,
     "metadata": {},
     "output_type": "execute_result"
    }
   ],
   "source": [
    "import numpy as np\n",
    "np.random.uniform(low=0.0, high=1.0, size=None)"
   ]
  },
  {
   "cell_type": "code",
   "execution_count": 1,
   "metadata": {},
   "outputs": [
    {
     "name": "stdout",
     "output_type": "stream",
     "text": [
      "[0.2 0.3 0.6 0.7 1. ]\n",
      "\n",
      "currentProduct:  2\n",
      "units bought:  1\n",
      "sec1:  1\n",
      "sec2:  0\n",
      "sec1Bought:  0\n",
      "sec2Bought:  0\n",
      "\n",
      "USER INTERACTIONS: \n",
      "╚══ Product=2, PriceLevel=0, Bought=Yes, #Units=1\n"
     ]
    }
   ],
   "source": [
    "import pprint\n",
    "import sys\n",
    "import unittest\n",
    "from Model.GraphProbabilities import GraphProbabilities\n",
    "from Model.Product import Product\n",
    "from Model.UserClass import UserClass\n",
    "from Model.constants import PROBABILITY_MATRIX, SECONDARY_PRODUCTS\n",
    "\n",
    "id = 0\n",
    "conversionRate = [\n",
    "    [1, 1, 1, 1],\n",
    "    [1, 1, 1, 1],\n",
    "    [1, 1, 1, 1],\n",
    "    [1, 1, 1, 1],\n",
    "    [1, 1, 1, 1]\n",
    "]\n",
    "\n",
    "clickProbability = GraphProbabilities(PROBABILITY_MATRIX)\n",
    "alphas = [0.2, 0.1, 0.3, 0.1, 0.3]\n",
    "\n",
    "n_bought_mean = 2\n",
    "n_bought_variance = 1\n",
    "n_user_mean = 10\n",
    "n_user_variance = 1\n",
    "\n",
    "productList = [Product(int(key), SECONDARY_PRODUCTS[key]) for key in SECONDARY_PRODUCTS]\n",
    "\n",
    "Lambda = 0.8\n",
    "\n",
    "userClass = UserClass(id=id, conversionRate=conversionRate, clickProbability=clickProbability, alphas=alphas,\n",
    "                        Lambda=Lambda, n_bought_variance=n_bought_variance, n_bought_mean=n_bought_mean,\n",
    "                        n_user_mean=n_user_mean, n_user_variance=n_user_variance, productList=productList)\n",
    "\n",
    "# pp = pprint.PrettyPrinter(indent=4)\n",
    "# pp.pprint(userClass.__dict__)\n",
    "\n",
    "currentPrice = [0, 0, 0, 0, 0]\n",
    "userClass.setCurrentPrice(currentPrice)\n",
    "\n",
    "userInteractions = userClass.generateEpisode()\n",
    "userInteractions.printInteractions()"
   ]
  },
  {
   "cell_type": "code",
   "execution_count": 2,
   "metadata": {},
   "outputs": [
    {
     "name": "stdout",
     "output_type": "stream",
     "text": [
      "\n",
      "currentProduct:  1\n",
      "units bought:  2\n",
      "sec1:  3\n",
      "sec2:  4\n",
      "sec1Bought:  1\n",
      "\n",
      "currentProduct:  3\n",
      "units bought:  2\n",
      "sec1:  0\n",
      "sec2:  4\n",
      "sec1Bought:  0\n",
      "sec2Bought:  0\n",
      "sec2Bought:  0\n",
      "\n",
      "currentProduct:  4\n",
      "units bought:  4\n",
      "sec1:  3\n",
      "sec2:  2\n",
      "sec1Bought:  0\n",
      "sec2Bought:  0\n",
      "\n",
      "currentProduct:  2\n",
      "units bought:  2\n",
      "sec1:  1\n",
      "sec2:  0\n",
      "sec1Bought:  1\n",
      "\n",
      "currentProduct:  1\n",
      "units bought:  6\n",
      "sec1:  3\n",
      "sec2:  4\n",
      "sec1Bought:  1\n",
      "\n",
      "currentProduct:  3\n",
      "units bought:  3\n",
      "sec1:  0\n",
      "sec2:  4\n",
      "sec1Bought:  0\n",
      "sec2Bought:  0\n",
      "sec2Bought:  0\n",
      "sec2Bought:  0\n",
      "\n",
      "currentProduct:  4\n",
      "units bought:  2\n",
      "sec1:  3\n",
      "sec2:  2\n",
      "sec1Bought:  0\n",
      "sec2Bought:  0\n",
      "\n",
      "currentProduct:  0\n",
      "units bought:  4\n",
      "sec1:  1\n",
      "sec2:  2\n",
      "sec1Bought:  0\n",
      "sec2Bought:  0\n",
      "\n",
      "currentProduct:  4\n",
      "units bought:  6\n",
      "sec1:  3\n",
      "sec2:  2\n",
      "sec1Bought:  0\n",
      "sec2Bought:  0\n",
      "\n",
      "currentProduct:  2\n",
      "units bought:  2\n",
      "sec1:  1\n",
      "sec2:  0\n",
      "sec1Bought:  1\n",
      "\n",
      "currentProduct:  1\n",
      "units bought:  3\n",
      "sec1:  3\n",
      "sec2:  4\n",
      "sec1Bought:  1\n",
      "\n",
      "currentProduct:  3\n",
      "units bought:  2\n",
      "sec1:  0\n",
      "sec2:  4\n",
      "sec1Bought:  0\n",
      "sec2Bought:  1\n",
      "\n",
      "currentProduct:  4\n",
      "units bought:  1\n",
      "sec1:  3\n",
      "sec2:  2\n",
      "sec1Bought:  0\n",
      "sec2Bought:  0\n",
      "sec2Bought:  0\n",
      "sec2Bought:  0\n",
      "\n",
      "currentProduct:  4\n",
      "units bought:  4\n",
      "sec1:  3\n",
      "sec2:  2\n",
      "sec1Bought:  0\n",
      "sec2Bought:  0\n",
      "\n",
      "currentProduct:  4\n",
      "units bought:  3\n",
      "sec1:  3\n",
      "sec2:  2\n",
      "sec1Bought:  0\n",
      "sec2Bought:  0\n",
      "\n",
      "currentProduct:  4\n",
      "units bought:  1\n",
      "sec1:  3\n",
      "sec2:  2\n",
      "sec1Bought:  0\n",
      "sec2Bought:  0\n"
     ]
    },
    {
     "data": {
      "text/plain": [
       "[<Model.InteractionNode.InteractionNode at 0x1c15f78af40>,\n",
       " <Model.InteractionNode.InteractionNode at 0x1c15f78afa0>,\n",
       " <Model.InteractionNode.InteractionNode at 0x1c15f78ad00>,\n",
       " <Model.InteractionNode.InteractionNode at 0x1c15f78aca0>,\n",
       " <Model.InteractionNode.InteractionNode at 0x1c15f78ac10>,\n",
       " <Model.InteractionNode.InteractionNode at 0x1c15f78abb0>,\n",
       " <Model.InteractionNode.InteractionNode at 0x1c15f78aa30>,\n",
       " <Model.InteractionNode.InteractionNode at 0x1c15f78a9d0>,\n",
       " <Model.InteractionNode.InteractionNode at 0x1c15f78a970>,\n",
       " <Model.InteractionNode.InteractionNode at 0x1c15f78a910>]"
      ]
     },
     "execution_count": 2,
     "metadata": {},
     "output_type": "execute_result"
    }
   ],
   "source": [
    "def yummy(time, env):\n",
    "    print(\"Time: {}\".format(time))\n",
    "    print(\"Env: {}\".format(env.Lambda))\n",
    "from Environment import Environment\n",
    "e = Environment(0.3, [userClass])\n",
    "e.addTimeListener(2, yummy)\n",
    "e.addTimeListener(2, yummy)\n",
    "e.round()\n"
   ]
  }
 ],
 "metadata": {
  "interpreter": {
   "hash": "bc987af2bfe8a320e37dc50b63a6ae872aba251cefb872bb0fb845a29bbd1417"
  },
  "kernelspec": {
   "display_name": "Python 3.9.12 64-bit (windows store)",
   "language": "python",
   "name": "python3"
  },
  "language_info": {
   "codemirror_mode": {
    "name": "ipython",
    "version": 3
   },
   "file_extension": ".py",
   "mimetype": "text/x-python",
   "name": "python",
   "nbconvert_exporter": "python",
   "pygments_lexer": "ipython3",
   "version": "3.9.12"
  },
  "orig_nbformat": 4
 },
 "nbformat": 4,
 "nbformat_minor": 2
}
