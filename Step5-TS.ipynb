{
 "cells": [
  {
   "cell_type": "code",
   "execution_count": 1,
   "metadata": {
    "collapsed": true
   },
   "outputs": [],
   "source": [
    "import json\n",
    "\n",
    "def arrays_mean(arrays, weights):\n",
    "    tot_weights = sum(weights)\n",
    "    if len(arrays) == 0:\n",
    "        return []\n",
    "\n",
    "    ret = arrays[0]\n",
    "    for i in range(0, len(ret)):\n",
    "        ret[i] = ret[i]*weights[0]\n",
    "\n",
    "    for i in range(1, len(arrays)):\n",
    "        for j in range(0, len(arrays[0])):\n",
    "                ret[j] += arrays[i][j]*weights[i]\n",
    "\n",
    "    for i in range(0, len(ret)):\n",
    "        ret[i] = ret[i]/(len(arrays)*tot_weights)\n",
    "\n",
    "    return ret\n",
    "\n",
    "def matrices_mean(matrices, weights):\n",
    "    tot_weights = sum(weights)\n",
    "    if len(matrices) == 0:\n",
    "        return []\n",
    "\n",
    "    ret = matrices[0]\n",
    "    for i in range(0, len(ret)):\n",
    "        for j in range(0, len(ret[0])):\n",
    "            ret[i][j] = ret[i][j]*weights[0]\n",
    "\n",
    "    for i in range(1, len(matrices)):\n",
    "        for j in range(0, len(matrices[0])):\n",
    "            for k in range(0, len(matrices[0][0])):\n",
    "                ret[j][k] += matrices[i][j][k]*weights[i]\n",
    "\n",
    "    for i in range(0, len(ret)):\n",
    "        for j in range(0, len(ret[0])):\n",
    "            ret[i][j] = ret[i][j]/(len(matrices)*tot_weights)\n",
    "\n",
    "    return ret\n",
    "\n",
    "def load_mean_config(file_path):\n",
    "    f = open(file_path)\n",
    "    config = json.load(f)\n",
    "    f.close()\n",
    "    ucs = config[\"classes\"]\n",
    "    margins = config[\"margins\"]\n",
    "    optimal_config = config[\"optimalConfig\"]\n",
    "    productList = [Product(int(key), ucs[0][\"secondary\"][key]) for key in ucs[0][\"secondary\"]] #same for each class\n",
    "\n",
    "    convRates = []\n",
    "    click_prob = []\n",
    "    lambda_p = 0\n",
    "    alphas = []\n",
    "    units_mean = []\n",
    "    users_mean = []\n",
    "    users_variance = []\n",
    "\n",
    "    for uc in ucs:\n",
    "        #medie\n",
    "        convRates.append(uc[\"conversionRates\"])\n",
    "        click_prob.append(uc[\"clickProbability\"])\n",
    "        lambda_p += uc[\"lambda\"]\n",
    "        alphas.append(uc[\"alphas\"])\n",
    "        units_mean.append(uc[\"unitsShape\"])\n",
    "        users_mean.append(uc[\"usersMean\"])\n",
    "        users_variance.append(uc[\"usersVariance\"])\n",
    "\n",
    "    lambda_p = lambda_p/len(ucs)\n",
    "    alphas = arrays_mean(alphas, users_mean)\n",
    "    units_mean = arrays_mean(units_mean, users_mean)\n",
    "    click_prob = matrices_mean(click_prob, users_mean)\n",
    "    convRates = matrices_mean(convRates, users_mean)\n",
    "\n",
    "    num_prices = len(convRates[0])\n",
    "    num_prods = len(alphas)\n",
    "\n",
    "    pulledArm = [0, 3, 0, 2, 0] # [3, 2, 0, 3, 2]\n",
    "    configuration = {\"productList\": productList, \"click_prob\": click_prob, \"lambda_p\": lambda_p, \"alphas\": alphas, \"units_mean\": units_mean,\n",
    "                     \"num_prices\": num_prices, \"num_prods\": num_prods, \"optimal_config\": optimal_config, \"pulledArm\": pulledArm,\n",
    "                     \"margins\": margins, \"convRates\": convRates, \"usersMean\": users_mean, \"usersVariance\": users_variance}\n",
    "    return configuration"
   ]
  },
  {
   "cell_type": "code",
   "execution_count": 3,
   "outputs": [
    {
     "name": "stdout",
     "output_type": "stream",
     "text": [
      "Configuration file  0 :\n",
      "Optimal arm found:\n",
      "\t [2, 2, 0, 3, 2] \n",
      "Optimal theoretical arm:\n",
      "\t [2, 2, 0, 2, 2]\n"
     ]
    },
    {
     "data": {
      "text/plain": "<Figure size 432x288 with 1 Axes>",
      "image/png": "[encoded data removed]"
     },
     "metadata": {
      "needs_background": "light"
     },
     "output_type": "display_data"
    },
    {
     "data": {
      "text/plain": "<Figure size 432x288 with 1 Axes>",
      "image/png": "[encoded data removed]"
     },
     "metadata": {
      "needs_background": "light"
     },
     "output_type": "display_data"
    },
    {
     "data": {
      "text/plain": "<Figure size 432x288 with 1 Axes>",
      "image/png": "[encoded data removed]"
     },
     "metadata": {
      "needs_background": "light"
     },
     "output_type": "display_data"
    },
    {
     "name": "stdout",
     "output_type": "stream",
     "text": [
      "Configuration file  1 :\n",
      "Optimal arm found:\n",
      "\t [1, 1, 1, 1, 1] \n",
      "Optimal theoretical arm:\n",
      "\t [1, 1, 1, 1, 1]\n"
     ]
    },
    {
     "data": {
      "text/plain": "<Figure size 432x288 with 1 Axes>",
      "image/png": "[encoded data removed]"
     },
     "metadata": {
      "needs_background": "light"
     },
     "output_type": "display_data"
    },
    {
     "data": {
      "text/plain": "<Figure size 432x288 with 1 Axes>",
      "image/png": "[encoded data removed]"
     },
     "metadata": {
      "needs_background": "light"
     },
     "output_type": "display_data"
    },
    {
     "data": {
      "text/plain": "<Figure size 432x288 with 1 Axes>",
      "image/png": "[encoded data removed]"
     },
     "metadata": {
      "needs_background": "light"
     },
     "output_type": "display_data"
    }
   ],
   "source": [
    "from Environment import Environment\n",
    "from Learner.TS_GW import *\n",
    "from Model.Product import *\n",
    "import json\n",
    "import matplotlib.pyplot as plt\n",
    "from Model.Evaluator.GraphEvaluator import *\n",
    "\n",
    "def total_margin_per_node(envReturn, marginsPerPrice, pulledArm):\n",
    "    TotMargin = 0\n",
    "    for e in envReturn[\"episodes\"]:\n",
    "        if e.bought:\n",
    "            TotMargin += marginsPerPrice[e.product][pulledArm[e.product]] * e.units\n",
    "    return TotMargin\n",
    "\n",
    "files = ['./Configs/config1.json', './Configs/config3.json']\n",
    "#files = ['./Configs/config1.json', './Configs/Config2.json']\n",
    "env = []\n",
    "tsLearners = []\n",
    "config_margins = []\n",
    "optimal_arms = []\n",
    "conv_rates = []\n",
    "prod_lists = []\n",
    "click_probs = []\n",
    "lambdas = []\n",
    "alphas = []\n",
    "units_means = []\n",
    "n_experiments = 100\n",
    "n_loops = 1\n",
    "\n",
    "for i in range(0, len(files)):\n",
    "    env.append(Environment(config_path=files[i]))\n",
    "    config = load_mean_config(files[i])\n",
    "    l = config[\"lambda_p\"]\n",
    "\n",
    "    tsLearners.append(TS_GW(margins=config[\"margins\"], alphas=config[\"alphas\"], secondary_prod=config[\"productList\"],\n",
    "                            conversion_rates=config[\"convRates\"], l=l))\n",
    "    config_margins.append(config[\"margins\"])\n",
    "    optimal_arms.append(config[\"optimal_config\"])\n",
    "    conv_rates.append(config[\"convRates\"])\n",
    "    prod_lists.append(config[\"productList\"])\n",
    "    click_probs.append(config[\"click_prob\"])\n",
    "    lambdas.append(config['lambda_p'])\n",
    "    alphas.append(config[\"alphas\"])\n",
    "    units_means.append(config[\"units_mean\"])\n",
    "\n",
    "tot_ts_learner_margins = []\n",
    "tot_optimal_margins = []\n",
    "\n",
    "for i in range(0, len(env)):\n",
    "    ts_learner_margins = np.array([])\n",
    "    optimal_margins = np.array([])\n",
    "    for j in range(0, n_experiments):\n",
    "        ts_single_margin = 0\n",
    "        opt_single_margin = 0\n",
    "        armMargins = []\n",
    "        armConvRates = []\n",
    "\n",
    "    # compute the margin for the TS\n",
    "        pulledArm = tsLearners[i].pull_arm()\n",
    "        for k in range(0, len(pulledArm)):\n",
    "            armMargins.append(config_margins[i][k][pulledArm[k]])\n",
    "            armConvRates.append(conv_rates[i][k][pulledArm[k]])\n",
    "\n",
    "        graphEval = GraphEvaluator(products_list=prod_lists[i], click_prob_matrix=click_probs[i], lambda_prob=lambdas[i],\n",
    "                    alphas=alphas[i], conversion_rates=armConvRates, margins=armMargins, units_mean=units_means[i], verbose=False)\n",
    "\n",
    "        env[i].setPriceLevels(pulledArm)\n",
    "        for k in range(0, n_loops):\n",
    "            ts_interactions = env[i].round()\n",
    "            ts_single_margin += graphEval.computeMargin()\n",
    "            #ts_single_margin += total_margin_per_node(ts_interactions, config_margins[i], pulledArm)\n",
    "        ts_single_margin /= n_loops\n",
    "        tsLearners[i].update(ts_interactions, pulledArm)\n",
    "\n",
    "    # compute the margin for the optimal\n",
    "        armConvRates = []\n",
    "        armMargins = []\n",
    "        pulledArm = optimal_arms[i]\n",
    "        for k in range(0, len(pulledArm)):\n",
    "            armMargins.append(config_margins[i][k][pulledArm[k]])\n",
    "            armConvRates.append(conv_rates[i][k][pulledArm[k]])\n",
    "\n",
    "        graphEval = GraphEvaluator(products_list=prod_lists[i], click_prob_matrix=click_probs[i], lambda_prob=lambdas[i],\n",
    "                    alphas=alphas[i], conversion_rates=armConvRates, margins=armMargins, units_mean=units_means[i], verbose=False)\n",
    "\n",
    "        env[i].setPriceLevels(pulledArm)\n",
    "        for k in range(0, n_loops):\n",
    "            opt_interactions = env[i].round()\n",
    "            opt_single_margin += graphEval.computeMargin()\n",
    "            #opt_single_margin += total_margin_per_node(opt_interactions, config_margins[i], pulledArm)\n",
    "        opt_single_margin /= n_loops\n",
    "\n",
    "        #add the margins\n",
    "        ts_learner_margins = np.append(ts_learner_margins, ts_single_margin)\n",
    "        optimal_margins = np.append(optimal_margins, opt_single_margin)\n",
    "\n",
    "    tot_ts_learner_margins.append(ts_learner_margins)\n",
    "    tot_optimal_margins.append(optimal_margins)\n",
    "    print(\"Configuration file \", i, \":\\nOptimal arm found:\\n\\t\", tsLearners[i].pull_arm(), \"\\nOptimal theoretical arm:\\n\\t\", optimal_arms[i])\n",
    "\n",
    "\n",
    "    x = np.linspace(0, n_experiments, n_experiments)\n",
    "    fig1, ax1 = plt.subplots()\n",
    "    ax1.plot(x, tot_ts_learner_margins[i])\n",
    "    fig2, ax2 = plt.subplots()\n",
    "    ax2.plot(x, tot_optimal_margins[i])\n",
    "    fig3, ax3 = plt.subplots()\n",
    "    ax3.plot(x, tot_optimal_margins[i]-tot_ts_learner_margins[i])\n",
    "    plt.show()"
   ],
   "metadata": {
    "collapsed": false,
    "pycharm": {
     "name": "#%%\n"
    }
   }
  }
 ],
 "metadata": {
  "kernelspec": {
   "display_name": "Python 3",
   "language": "python",
   "name": "python3"
  },
  "language_info": {
   "codemirror_mode": {
    "name": "ipython",
    "version": 2
   },
   "file_extension": ".py",
   "mimetype": "text/x-python",
   "name": "python",
   "nbconvert_exporter": "python",
   "pygments_lexer": "ipython2",
   "version": "2.7.6"
  }
 },
 "nbformat": 4,
 "nbformat_minor": 0
}