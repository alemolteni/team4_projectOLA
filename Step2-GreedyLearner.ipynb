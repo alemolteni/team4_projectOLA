{
 "cells": [
  {
   "cell_type": "markdown",
   "metadata": {},
   "source": [
    "# Greedy Learner - Step 2\n",
    "Step 2: Optimization algorithm. Formally state the optimization problem where the objective function is the maximization of the cumulative expected margin over all the products. Design a greedy algorithm to optimize the objective function when all the parameters are known. The algorithm works as follows. At the beginning, every item is associated with the corresponding lowest price. Then, evaluate the marginal increase obtained when the price of a single product is increased by a single level, thus considering 5 potential different price configurations at every iteration, and choose the price configuration providing the best marginal increase (a price configuration specifies the price of every product). The algorithm stops when no new configuration among the 5 evaluated is better than the previous one. For instance, at the beginning, evaluate the 5 price configurations in which all the products are priced with the lowest price except for one product which is priced with the second lowest price. If all these price configurations are worse than the configuration in which all the products are priced with the lowest price, stop the algorithm and return the configuration with the lowest price for all the products. Otherwise, choose the best price configuration and re-iterate the algorithm. Notice that the algorithm monotonically increases the prices as well as the cumulative expected margin. Therefore, the algorithms cannot cycle. However, there is not guarantee that the algorithm will return the optimal price configuration. Develop the algorithm by Python.\n"
   ]
  },
  {
   "cell_type": "markdown",
   "metadata": {},
   "source": [
    "### 1. Greedy Learner Structure"
   ]
  },
  {
   "cell_type": "markdown",
   "metadata": {},
   "source": [
    "##### __init()__ \n",
    "This method initializes the learner parameters."
   ]
  },
  {
   "cell_type": "code",
   "execution_count": 1,
   "metadata": {},
   "outputs": [],
   "source": [
    "import numpy as np\n",
    "'''\n",
    "    - configuration_margin[]: margins of the five possible different derivation obtained from a starting configuration\n",
    "    - t: counter variable\n",
    "    - optimal_configuration[]: current optimal price configuration found\n",
    "    - optimal_configuration_margin: margin of the current optimal configuration\n",
    "    - isOptima: Flag used to signal whether the optimal configuration has been found by the learner\n",
    "    - debug: flag used for debugging purpose\n",
    "'''\n",
    "def __init__(self, debug=False):\n",
    "        self.configuration_margin = [0, 0, 0, 0, 0] \n",
    "        self.t = -1 \n",
    "        self.optimal_configuration = [0, 0, 0, 0, 0]  \n",
    "        self.optimal_configuration_margin = 0   \n",
    "        self.isOptima = False\n",
    "        self.debug = debug"
   ]
  },
  {
   "cell_type": "markdown",
   "metadata": {},
   "source": [
    "##### __pull_arm()__\n",
    "This method returns the new price configuration that has to be evaluated. It pulls a new arm of the optimal configuration and returns the new one.  \n",
    "<br>starting configuration: [0, 0, 0, 0, 0]\n",
    "\n",
    "<br>possible derivations:   \n",
    "[1, 0, 0, 0, 0]                  \n",
    "[0, 1, 0, 0, 0]                            \n",
    "[0, 0, 1, 0, 0]                            \n",
    "[0, 0, 0, 1, 0]                            \n",
    "[0, 0, 0, 0, 1]"
   ]
  },
  {
   "cell_type": "code",
   "execution_count": 2,
   "metadata": {},
   "outputs": [],
   "source": [
    "def pull_arm(self):\n",
    "        if self.t == -1 or self.isOptima:\n",
    "            return self.optimal_configuration\n",
    "\n",
    "        try_configuration = self.optimal_configuration.copy()\n",
    "\n",
    "        # Can't try arm above 3\n",
    "        if try_configuration[self.t] < 3:\n",
    "            try_configuration[self.t] += 1\n",
    "\n",
    "        return try_configuration"
   ]
  },
  {
   "cell_type": "markdown",
   "metadata": {},
   "source": [
    "##### __update(overallMargin)__ \n",
    "This procedure takes as input the `overallMargin` of the configuration that has been evaluated (by an evaluation method external to the learner class), and stores it `configuration_margin[]`. \n",
    "<br> When `self.t=5` all derivations have been tested and the procedure selects the most promising one by choosing the price configuration that provides the highest margin.\n",
    "<br> If the new margin is higher that the current `optimal_configuration_margin` and `isOptima=False` (the optima hasn't been found yet), the learner updates `optimal_configuration_margin` with the new value and the `optimal_configuration[]` is updated with the new arm."
   ]
  },
  {
   "cell_type": "code",
   "execution_count": 3,
   "metadata": {},
   "outputs": [],
   "source": [
    "def update(self, overallMargin):\n",
    "        # print(overallMargin)\n",
    "        if self.t == -1:\n",
    "            self.optimal_configuration_margin = overallMargin\n",
    "            self.t += 1\n",
    "            return\n",
    "\n",
    "        # Set margin to 0 if the arm was not changed, so if the optimal configuration arm is already at 3\n",
    "        # This is done to not compare again the optimal configuration with the other derivation, since if the arm is at\n",
    "        # 3 it was not increased in the pull arm phase.\n",
    "        if self.optimal_configuration[self.t] != 3:\n",
    "            self.configuration_margin[self.t] = overallMargin\n",
    "        else:\n",
    "            self.configuration_margin[self.t] = 0\n",
    "\n",
    "        self.t += 1\n",
    "\n",
    "        # If t==5 we have tried all derivation and must update the optimal margin and configuration (if any are better)\n",
    "        if self.t == 5:\n",
    "            result = np.where(self.configuration_margin == np.amax(self.configuration_margin))\n",
    "            result = result[0]\n",
    "            result = np.random.choice(result)\n",
    "\n",
    "            if np.amax(self.configuration_margin) > self.optimal_configuration_margin and not self.isOptima:\n",
    "                if self.optimal_configuration[result] < 3:\n",
    "                    self.optimal_configuration[result] += 1\n",
    "                self.optimal_configuration_margin = np.amax(self.configuration_margin)\n",
    "                if self.debug:\n",
    "                    print(self.configuration_margin, self.optimal_configuration_margin, self.optimal_configuration)\n",
    "            else:\n",
    "                self.isOptima = True\n",
    "                if self.debug:\n",
    "                    print(self.configuration_margin, self.optimal_configuration_margin, self.optimal_configuration)\n",
    "            self.t = 0"
   ]
  },
  {
   "cell_type": "markdown",
   "metadata": {},
   "source": [
    "### 2. Greedy Learner behavior\n",
    "1. The learner is initialized with the base-configuration in which all the products are priced with the lowest price: [0, 0, 0, 0, 0].\n",
    "2. An _evaluation policy_ is employed in order to assign an __overall margin__ to the configuration. Different possible margin evaluation policies can be used to assign a margin to the configuration.\n",
    "3. `update(overallMargin)` procedure of the learner is invoked\n",
    "4. Method `pullArm()` of the learner sets the new configuration to be evaluated.\n",
    "5. Repeat steps 2-3-4 untill an _exit condition_ is met"
   ]
  },
  {
   "cell_type": "markdown",
   "metadata": {},
   "source": [
    "### 3. Greedy Learner sub-optimality\n",
    "Although coputationally cheap the greedy approach is characterized by the major drawback of being extremely susceptible to <font color='lightgreen'>__local optimums__</font>. <br> The greedy approach is not guaranteed to return the __price configuration__ that is the <font color='lightgreen'>__global optima__</font>, indeed the learner may quickly find a single configuration that grants an immediate better margin than the other configurations belonging to the same level. By developing that configuration and by discarding the others, the learner might miss the opportunity to reach a final configuration with an overall better margin. This particular situation is further explained in the picture below:"
   ]
  },
  {
   "cell_type": "markdown",
   "metadata": {},
   "source": [
    "![local_optima](greedy_learner_local_optima.PNG)"
   ]
  },
  {
   "cell_type": "markdown",
   "metadata": {},
   "source": [
    "### Load different configurations\n",
    "In order to provide a complete analysis of the behavior of the learner in different scenarios the learner is tested over a set of different configurations. <br>Each config.json file specifies all the problem's general parameters and defines each user's class specific parameters. Each config file includes:\n",
    "- _margins_: 5x4 matrix that contains the product's margin for each possible price level. This is the only parameter that is valid for each user class\n",
    "- _lambda_: coefficient that affects the probability of a secondary product in the second slot to be clicked on\n",
    "- _alphas_: 1x5 list of alpha values (one per product). Each alpha represent the probability of a user to 'land' on a specific product page\n",
    "- _conversionRates_: 5x4 matrix containing all the different conversion rates for that specific user class. Conversion rates vary depending on the price level and the product\n",
    "- _clickProbability_: 5x4 matrix containing the probability of a user to click on a primary product when displayed with a specific price level\n",
    "- _secondary_: a data structure that links each product with its secondary products\n",
    "- _unitsShape_: 1x5 list of parameters of the random gamma distribution in charge of computing the number of units of product bought by each user\n",
    "- _userMean_: parameter that specifies the average number of users of that specific class that visit the website\n",
    "- _uservariance_: parameter that specifies the variance of the average number of users of that specific class that visit the website\n",
    "- _features_: data structure that contains the feature of that class of users"
   ]
  },
  {
   "cell_type": "code",
   "execution_count": 4,
   "metadata": {},
   "outputs": [],
   "source": [
    "import json\n",
    "from Environment import Environment\n",
    "import numpy as np\n",
    "from Learner.BruteForce import *\n",
    "from Model.UserClass import *\n",
    "from Model.Product import *\n",
    "from Model.GraphProbabilities import *\n",
    "from Model.Evaluator.GraphEvaluator import GraphEvaluator\n",
    "from Model.Evaluator.Baseline import Baseline\n",
    "\n",
    "\n",
    "def load_config(file_path):\n",
    "    f = open(file_path)\n",
    "    config = json.load(f)\n",
    "    f.close()\n",
    "    uc = config[\"classes\"][0]\n",
    "\n",
    "    productList = [Product(int(key), uc[\"secondary\"][key]) for key in uc[\"secondary\"]]\n",
    "\n",
    "    optimalMargin = config[\"optimalMargin\"]\n",
    "    optimalConfig = config[\"optimalConfig\"]\n",
    "    conversionRateLevels = uc[\"conversionRates\"]\n",
    "    marginsPerPrice = config[\"margins\"]\n",
    "    click_prob = uc[\"clickProbability\"]\n",
    "    lambda_p = uc[\"lambda\"]\n",
    "    alphas = uc[\"alphas\"]\n",
    "    units_mean = uc[\"unitsShape\"]\n",
    "    num_prices = len(conversionRateLevels[0])\n",
    "    num_prods = len(alphas)\n",
    "    usersMean = uc[\"usersMean\"]\n",
    "    usersVariance = uc[\"usersVariance\"]\n",
    "\n",
    "    optimal_arm = []\n",
    "\n",
    "    pulledArm = [0, 3, 0, 2, 0] # [3, 2, 0, 3, 2] \n",
    "    margins = []\n",
    "    convRates = []\n",
    "    configuration = {\n",
    "                    \"optimalMargin\": optimalMargin,\n",
    "                    \"optimalConfig\": optimalConfig,\n",
    "                    \"productList\": productList, \n",
    "                    \"conversionRateLevels\": conversionRateLevels, \n",
    "                    \"marginsPerPrice\": marginsPerPrice, \n",
    "                    \"click_prob\": click_prob, \n",
    "                    \"lambda_p\": lambda_p, \n",
    "                    \"alphas\": alphas, \n",
    "                    \"units_mean\": units_mean, \n",
    "                    \"num_prices\": num_prices, \n",
    "                    \"num_prods\": num_prods, \n",
    "                    \"optimal_arm\": optimal_arm, \n",
    "                    \"pulledArm\": pulledArm, \n",
    "                    \"margins\": margins, \n",
    "                    \"convRates\": convRates,\n",
    "                    \"usersMean\": usersMean, \n",
    "                    \"usersVariance\": usersVariance\n",
    "                    }\n",
    "    return configuration"
   ]
  },
  {
   "cell_type": "markdown",
   "metadata": {},
   "source": [
    "### Run simulation for each evaluation method\n",
    "In order to answer to the following question: how the evaluation method impacts the solution search?"
   ]
  },
  {
   "cell_type": "markdown",
   "metadata": {},
   "source": [
    "#### Evaluation method: Baseline evaluation\n",
    "Baseline evaluation computes the __minimum__ margin that each price configuration is able to ensure, disregarding the probability of the user to click on the specific product."
   ]
  },
  {
   "cell_type": "code",
   "execution_count": 6,
   "metadata": {},
   "outputs": [
    {
     "name": "stdout",
     "output_type": "stream",
     "text": [
      "pulledArm:  [0, 0, 0, 0, 0]\n",
      "pulledArm:  [1, 0, 0, 0, 0]\n",
      "pulledArm:  [0, 1, 0, 0, 0]\n",
      "pulledArm:  [0, 0, 1, 0, 0]\n",
      "pulledArm:  [0, 0, 0, 1, 0]\n",
      "pulledArm:  [0, 0, 0, 0, 1]\n",
      "[1.878272899839627, 1.9442325557661468, 1.6081446420761045, 1.3735260970987024, 1.8922819507216797] 1.97060438839481 [0, 0, 0, 0, 0]\n",
      "pulledArm:  [0, 0, 0, 0, 0]\n",
      "pulledArm:  [0, 0, 0, 0, 0]\n",
      "pulledArm:  [1, 0, 0, 0, 0]\n",
      "pulledArm:  [0, 1, 0, 0, 0]\n",
      "pulledArm:  [0, 0, 1, 0, 0]\n",
      "pulledArm:  [0, 0, 0, 1, 0]\n",
      "pulledArm:  [0, 0, 0, 0, 1]\n",
      "[8.007883469387755, 9.127602857142858, 10.320262040816328, 8.341976326530613, 7.589228571428571] 10.320262040816328 [0, 0, 1, 0, 0]\n",
      "pulledArm:  [1, 0, 1, 0, 0]\n",
      "pulledArm:  [0, 1, 1, 0, 0]\n",
      "pulledArm:  [0, 0, 2, 0, 0]\n",
      "pulledArm:  [0, 0, 1, 1, 0]\n",
      "pulledArm:  [0, 0, 1, 0, 1]\n",
      "[13.115083469387756, 14.234802857142858, 5.309845714285714, 13.449176326530614, 12.696428571428573] 14.234802857142858 [0, 1, 1, 0, 0]\n",
      "pulledArm:  [1, 1, 1, 0, 0]\n",
      "pulledArm:  [0, 2, 1, 0, 0]\n",
      "pulledArm:  [0, 1, 2, 0, 0]\n",
      "pulledArm:  [0, 1, 1, 1, 0]\n",
      "pulledArm:  [0, 1, 1, 0, 1]\n",
      "[17.029624285714284, 10.114649795918368, 9.224386530612245, 17.36371714285714, 16.6109693877551] 17.36371714285714 [0, 1, 1, 1, 0]\n",
      "pulledArm:  [1, 1, 1, 1, 0]\n",
      "pulledArm:  [0, 2, 1, 1, 0]\n",
      "pulledArm:  [0, 1, 2, 1, 0]\n",
      "pulledArm:  [0, 1, 1, 2, 0]\n",
      "pulledArm:  [0, 1, 1, 1, 1]\n",
      "[20.158538571428572, 13.243564081632654, 12.35330081632653, 14.39303142857143, 19.739883673469386] 20.158538571428572 [1, 1, 1, 1, 0]\n",
      "pulledArm:  [2, 1, 1, 1, 0]\n",
      "pulledArm:  [1, 2, 1, 1, 0]\n",
      "pulledArm:  [1, 1, 2, 1, 0]\n",
      "pulledArm:  [1, 1, 1, 2, 0]\n",
      "pulledArm:  [1, 1, 1, 1, 1]\n",
      "[18.04047734693878, 16.03838551020408, 15.14812224489796, 17.187852857142857, 22.534705102040814] 22.534705102040814 [1, 1, 1, 1, 1]\n",
      "pulledArm:  [2, 1, 1, 1, 1]\n",
      "pulledArm:  [1, 2, 1, 1, 1]\n",
      "pulledArm:  [1, 1, 2, 1, 1]\n",
      "pulledArm:  [1, 1, 1, 2, 1]\n",
      "pulledArm:  [1, 1, 1, 1, 2]\n",
      "[20.41664387755102, 18.414552040816325, 17.524288775510204, 19.5640193877551, 20.286225102040817] 22.534705102040814 [1, 1, 1, 1, 1]\n",
      "pulledArm:  [1, 1, 1, 1, 1]\n",
      "pulledArm:  [0, 0, 0, 0, 0]\n",
      "pulledArm:  [1, 0, 0, 0, 0]\n",
      "pulledArm:  [0, 1, 0, 0, 0]\n",
      "pulledArm:  [0, 0, 1, 0, 0]\n",
      "pulledArm:  [0, 0, 0, 1, 0]\n",
      "pulledArm:  [0, 0, 0, 0, 1]\n",
      "[9.42437890625, 9.232810546875001, 9.184095703125, 9.346419140625, 9.327349609375] 9.42437890625 [1, 0, 0, 0, 0]\n",
      "pulledArm:  [2, 0, 0, 0, 0]\n",
      "pulledArm:  [1, 1, 0, 0, 0]\n",
      "pulledArm:  [1, 0, 1, 0, 0]\n",
      "pulledArm:  [1, 0, 0, 1, 0]\n",
      "pulledArm:  [1, 0, 0, 0, 1]\n",
      "[9.354017578125, 9.37071875, 9.32200390625, 9.48432734375, 9.465257812499999] 9.48432734375 [1, 0, 0, 1, 0]\n",
      "pulledArm:  [2, 0, 0, 1, 0]\n",
      "pulledArm:  [1, 1, 0, 1, 0]\n",
      "pulledArm:  [1, 0, 1, 1, 0]\n",
      "pulledArm:  [1, 0, 0, 2, 0]\n",
      "pulledArm:  [1, 0, 0, 1, 1]\n",
      "[9.413966015625, 9.430667187500001, 9.38195234375, 9.52429296875, 9.525206249999998] 9.525206249999998 [1, 0, 0, 1, 1]\n",
      "pulledArm:  [2, 0, 0, 1, 1]\n",
      "pulledArm:  [1, 1, 0, 1, 1]\n",
      "pulledArm:  [1, 0, 1, 1, 1]\n",
      "pulledArm:  [1, 0, 0, 2, 1]\n",
      "pulledArm:  [1, 0, 0, 1, 2]\n",
      "[9.454844921874999, 9.47154609375, 9.42283125, 9.565171874999999, 9.55350703125] 9.565171874999999 [1, 0, 0, 2, 1]\n",
      "pulledArm:  [2, 0, 0, 2, 1]\n",
      "pulledArm:  [1, 1, 0, 2, 1]\n",
      "pulledArm:  [1, 0, 1, 2, 1]\n",
      "pulledArm:  [1, 0, 0, 3, 1]\n",
      "pulledArm:  [1, 0, 0, 2, 2]\n",
      "[9.494810546874998, 9.511511718749999, 9.462796874999999, 10.4276953125, 9.59347265625] 10.4276953125 [1, 0, 0, 3, 1]\n",
      "pulledArm:  [2, 0, 0, 3, 1]\n",
      "pulledArm:  [1, 1, 0, 3, 1]\n",
      "pulledArm:  [1, 0, 1, 3, 1]\n",
      "pulledArm:  [1, 0, 0, 3, 1]\n",
      "pulledArm:  [1, 0, 0, 3, 2]\n",
      "[10.357333984374998, 10.374035156249999, 10.325320312499999, 0, 10.45599609375] 10.45599609375 [1, 0, 0, 3, 2]\n",
      "pulledArm:  [2, 0, 0, 3, 2]\n",
      "pulledArm:  [1, 1, 0, 3, 2]\n",
      "pulledArm:  [1, 0, 1, 3, 2]\n",
      "pulledArm:  [1, 0, 0, 3, 2]\n",
      "pulledArm:  [1, 0, 0, 3, 3]\n",
      "[10.385634765625, 10.4023359375, 10.35362109375, 0, 11.196533203125] 11.196533203125 [1, 0, 0, 3, 3]\n",
      "pulledArm:  [2, 0, 0, 3, 3]\n",
      "pulledArm:  [1, 1, 0, 3, 3]\n",
      "pulledArm:  [1, 0, 1, 3, 3]\n",
      "pulledArm:  [1, 0, 0, 3, 3]\n",
      "config_file 1: otpimal_configuration = [0, 0, 0, 0, 0], Margin = 1.97060438839481\n",
      "config_file 2: otpimal_configuration = [1, 1, 1, 1, 1], Margin = 22.534705102040814\n",
      "config_file 3: otpimal_configuration = [1, 0, 0, 3, 3], Margin = 11.196533203125\n"
     ]
    }
   ],
   "source": [
    "from Model.Evaluator.Baseline import Baseline\n",
    "from Learner.GreedyLearner import *\n",
    "\n",
    "baselineResults = []\n",
    "for config in mergedConfigList:\n",
    "    greedyLearner = GreedyLearner(debug=True)\n",
    " \n",
    "    pulledArm = greedyLearner.pull_arm()\n",
    "    previousConfig = []\n",
    "    while pulledArm != previousConfig:\n",
    "        print(\"pulledArm: \", pulledArm)\n",
    "        armMargins = []\n",
    "        armConvRates = []\n",
    "        for k in range(0, len(pulledArm)):\n",
    "            armMargins.append(config[\"marginsPerPrice\"][k][pulledArm[k]])\n",
    "            armConvRates.append(config['conversionRateLevels'][k][pulledArm[k]])\n",
    "  \n",
    "        # Initialization of Baseline evaluator object:\n",
    "        baselineEval = Baseline(products_list=config['productList'], click_prob_matrix=config['click_prob'], lambda_prob=config['lambda_p'],\n",
    "                    alphas=config['alphas'], conversion_rates=armConvRates, margins=armMargins, units_mean=config['units_mean'], verbose=True)\n",
    " \n",
    "        # Price configuration evaluation and greedy Learner margin update:\n",
    "        margin = baselineEval.computeMargin()\n",
    "        greedyLearner.update(margin)\n",
    " \n",
    "        previousConfig = pulledArm\n",
    "        pulledArm = greedyLearner.pull_arm()\n",
    "    \n",
    "    baselineResults.append([greedyLearner.optimal_configuration, greedyLearner.optimal_configuration_margin])\n",
    "\n",
    "for i in range (0, len(baselineResults)):\n",
    "    print(\"config_file {}: otpimal_configuration = {}, Margin = {}\".format((i+1), baselineResults[i][0], baselineResults[i][1]))"
   ]
  },
  {
   "cell_type": "markdown",
   "metadata": {},
   "source": [
    "#### Evaluation method: Graph evaluation\n",
    "The graph evaluation exploits the assumption of _perfect observability_ of each user actions. The method consists in evaluating each configuration by computing the <font color='lightgreen'>__overall expected value__</font> of a given configuration. <br>The <font color='lightgreen'>__overall expected value__</font> is computed as:\n",
    "\n",
    "$\\mathbb{E}[c] = \\sum\\limits _{i \\in P}\\alpha_{i} \\mathbb{E}[i, c_i]$         \n",
    "\n",
    "<br>where $\\alpha = \\{\\alpha_1, \\alpha_2, \\alpha_3, \\alpha_4, \\alpha_5\\}$ is the list of alphas and $P = \\{1, 2, 3, 4, 5\\}$ is the list of products.\n",
    "<br><font color='pink'>$\\mathbb{E}[i, c_i]$</font> is the <font color='pink'>__expected margin of product i__</font> given <font color='lightgreen'>__configuration c__</font> which is computed using the products graph\n",
    "\n",
    "![product_graph](graph1.png)\n",
    "\n",
    "<br> Suppose $\\alpha_1 = 1$, which is equivalent to say $\\alpha = \\{1, 0, 0, 0, 0\\}$, Probability $w[i]$ is the probability to click on product $i$ when $i$ is displayed in the first slot, while <font color='lightgreen'>$w[i]\\lambda$</font> is the probability of clicking on the same product $i$ when it is displayed in the second slot.\n",
    "\n",
    "$\\mathbb{E}[i, c] =$ <font color='lightblue'>$P(p_i)$</font> $\\cdot $ <font color='yellow'>$M[i][$ <font color='lightgreen'>$c_i$</font> $]$</font> $\\cdot$ <font color='orange'>$CR[i][$ <font color='lightgreen'>$c_i$</font> $]$</font>\n",
    "\n",
    "- <font color='lightgreen'>$c_i$</font> is the price level of product $i$ considering configuration $c$, namely `c[i]`\n",
    "- <font color='lightblue'>$P(p_i)$</font> is the probability that product $i$ has to be clicked on.\n",
    "- <font color='yellow'>$M[i][$ <font color='lightgreen'>$c_i$</font> $]$</font> is the _margin_ that the e-commerce gains from product $i$ when it's sold at price level $c_i$\n",
    "- <font color='orange'>$CR[i][$ <font color='lightgreen'>$c_i$</font> $]$</font> is the conversion rate of the customer for product $i$ when sold at price configuration $c_i$\n",
    "\n",
    "To compute probability <font color='lightblue'>$P(p_i)$</font>, we exploit the fact that the products' interconnections are fixed, considering the connections depicted above we can expand the connection graph and obtain a __reachability tree__, when starting from a node we obtain all paths leading to the others:\n",
    "\n",
    "![reachability_tree](reachability_tree.png)\n",
    "\n",
    "The probability of visiting a node $p_i$ of the tree (<font color='lightblue'>$P(p_i)$</font>) is given by the probabilities of reaching that node in each __feasible__ path of the tree that contains $p_i$. That would be <font color='lightblue'>$P(p_i)$</font> $= P(path_1) \\lor P(path_2) \\lor ... \\lor P(path_n)$\n",
    "\n",
    "<br><font color='pink'>__NB:__</font> Each path has a maximum length of 5 since each product cannot be displayed as primary twice.\n",
    "\n",
    "Consider for instance node <font color='lightgreen'>D</font>, the feasible plath leading to it are: \n",
    "1. A -> B -> <font color='lightgreen'>D</font>\n",
    "2. A -> B -> E -> <font color='lightgreen'>D</font>\n",
    "3. A -> B -> E -> C -> <font color='lightgreen'>D</font>\n",
    "4. A -> C -> B -> <font color='lightgreen'>D</font>\n",
    "5. A -> C -> <font color='lightgreen'>D</font>\n",
    "\n",
    "![reachability_tree_node_D](reachability_tree_node_D.png)\n",
    "\n",
    "So the overall probability of visiting node <font color='lightgreen'>D</font> is:\n",
    "\n",
    "$\\mathbb{E}[c] = 1 - \\prod\\limits _{k = 0} ^{\\#Paths(i)}[1- P(Path_i)]$\n",
    "\n",
    "Probability $P(Path_i)$ is simply the product of each conditional probability of visiting node N from N', $P(N|N')$\n",
    "\n",
    "In conclusion we've obtained:\n",
    "\n",
    "$\\mathbb{E}[c] = \\sum\\limits _{i \\in P}\\{ \\alpha_{i} \\cdot M[i][c_i] \\cdot CR[i][c_i] \\cdot \\{1 - \\prod\\limits _{k = 0} ^{\\#Paths(i)}[1- P(Path_i)]\\}\\}$"
   ]
  },
  {
   "cell_type": "code",
   "execution_count": 7,
   "metadata": {},
   "outputs": [
    {
     "name": "stdout",
     "output_type": "stream",
     "text": [
      "[6.7, 6.936842105263158, 6.663157894736843, 5.410526315789474, 6.573684210526316] 7.3 [0, 0, 0, 0, 0]\n",
      "[28.89, 34.81142857142857, 39.36428571428571, 38.82571428571429, 34.56857142857143] 39.36428571428571 [0, 0, 1, 0, 0]\n",
      "[47.457142857142856, 53.114285714285714, 21.35857142857143, 57.46571428571429, 52.98714285714286] 57.46571428571429 [0, 0, 1, 1, 0]\n",
      "[65.33714285714285, 71.48, 39.238571428571426, 40.43714285714286, 71.08857142857143] 71.48 [0, 1, 1, 1, 0]\n",
      "[79.20285714285714, 56.68714285714286, 52.98857142857143, 54.451428571428565, 84.83857142857143] 84.83857142857143 [0, 1, 1, 1, 1]\n",
      "[92.56142857142858, 70.31, 66.61142857142858, 68.07428571428571, 71.84571428571428] 92.56142857142858 [1, 1, 1, 1, 1]\n",
      "[86.67571428571429, 78.18142857142857, 74.55571428571429, 75.79714285714286, 79.79] 92.56142857142858 [1, 1, 1, 1, 1]\n",
      "[24.95, 24.4625, 24.44375, 24.625, 24.625] 24.95 [1, 0, 0, 0, 0]\n",
      "[24.625, 24.625, 24.76875, 24.95, 24.95] 24.95 [1, 0, 0, 0, 0]\n",
      "config_file 1: otpimal_configuration = [0, 0, 0, 0, 0], Margin = 7.3\n",
      "config_file 2: otpimal_configuration = [1, 1, 1, 1, 1], Margin = 92.56142857142858\n",
      "config_file 3: otpimal_configuration = [1, 0, 0, 0, 0], Margin = 24.95\n"
     ]
    }
   ],
   "source": [
    "from Learner.GreedyLearner import *\n",
    "\n",
    "\n",
    "graphEvalResults = []\n",
    "for config in mergedConfigList:\n",
    "    greedyLearner = GreedyLearner(debug=True)\n",
    " \n",
    "    pulledArm = greedyLearner.pull_arm()\n",
    "    previousConfig = []\n",
    "    while pulledArm != previousConfig:\n",
    "        armMargins = []\n",
    "        armConvRates = []\n",
    "        for k in range(0, len(pulledArm)):\n",
    "            armMargins.append(config[\"marginsPerPrice\"][k][pulledArm[k]])\n",
    "            armConvRates.append(config['conversionRateLevels'][k][pulledArm[k]])\n",
    "  \n",
    "        # Initialization of GraphEvaluator object:\n",
    "        graphEval = GraphEvaluator(products_list=config['productList'], click_prob_matrix=config['click_prob'], lambda_prob=config['lambda_p'],\n",
    "                    alphas=config['alphas'], conversion_rates=armConvRates, margins=armMargins, units_mean=config['units_mean'], verbose=True)\n",
    " \n",
    "        # Price configuration evaluation and greedy Learner margin update:\n",
    "        margin = graphEval.computeMargin()\n",
    "   \n",
    "        greedyLearner.update(margin)\n",
    " \n",
    "        previousConfig = pulledArm\n",
    "        pulledArm = greedyLearner.pull_arm()\n",
    "    \n",
    "    graphEvalResults.append([greedyLearner.optimal_configuration, greedyLearner.optimal_configuration_margin])\n",
    "\n",
    "for i in range (0, len(graphEvalResults)):\n",
    "    print(\"config_file {}: otpimal_configuration = {}, Margin = {}\".format((i+1), graphEvalResults[i][0], graphEvalResults[i][1]))"
   ]
  },
  {
   "cell_type": "markdown",
   "metadata": {},
   "source": [
    "#### Evaluation method: Environment simulation "
   ]
  },
  {
   "cell_type": "code",
   "execution_count": 8,
   "metadata": {},
   "outputs": [
    {
     "name": "stdout",
     "output_type": "stream",
     "text": [
      "\n",
      "Trying configuration ->  ./Configs/configuration5.json\n",
      "[2.841293170522562, 3.4540441960252957, 3.4053781502947746, 3.062741493401503, 3.4149623155496314] 3.4540441960252957 [0, 1, 0, 0, 0]\n",
      "[2.7886263452454174, 3.9010035757271733, 3.2781560966547265, 3.047419964993146, 3.1680096841129806] 3.9010035757271733 [0, 2, 0, 0, 0]\n",
      "[3.0452348955262187, 2.6844287580634467, 3.5160071441061223, 3.248322680027192, 3.4230403273267807] 3.9010035757271733 [0, 2, 0, 0, 0]\n",
      "\n",
      "Trying configuration ->  ./Configs/config3.json\n",
      "[15.884638592727136, 14.917010041735098, 16.26215124741352, 13.622729772664503, 12.356984303775015] 16.26215124741352 [0, 0, 1, 0, 0]\n",
      "[23.474749171391565, 22.876752860285677, 16.20089819895859, 19.504090188507003, 19.46136037747827] 23.474749171391565 [1, 0, 1, 0, 0]\n",
      "[22.614656987631797, 30.048085929066715, 22.710061666073933, 28.283700521225047, 24.813613611875606] 30.048085929066715 [1, 1, 1, 0, 0]\n",
      "[27.499640968829805, 29.762767343336574, 28.40049522629698, 34.17241894409193, 32.23019880549564] 34.17241894409193 [1, 1, 1, 1, 0]\n",
      "[32.47518623958618, 33.84497522166792, 31.26565375663134, 32.55185054827975, 37.073377163555065] 37.073377163555065 [1, 1, 1, 1, 1]\n",
      "[35.75760367471648, 35.8279905080256, 35.977268686179656, 36.86190754883617, 35.99787711451967] 37.073377163555065 [1, 1, 1, 1, 1]\n",
      "\n",
      "Trying configuration ->  ./Configs/configuration4.json\n",
      "[12.77951420471324, 12.621257325177442, 12.103877189567696, 12.244135749666654, 12.278189023621213] 12.77951420471324 [1, 0, 0, 0, 0]\n",
      "[12.578447244110457, 12.43089574099801, 12.29218081387279, 12.2225301160193, 12.065666937958072] 12.77951420471324 [1, 0, 0, 0, 0]\n",
      "config_file 1: otpimal_configuration = [0, 2, 0, 0, 0], Margin = 3.9010035757271733\n",
      "config_file 2: otpimal_configuration = [1, 1, 1, 1, 1], Margin = 37.073377163555065\n",
      "config_file 3: otpimal_configuration = [1, 0, 0, 0, 0], Margin = 12.77951420471324\n"
     ]
    },
    {
     "data": {
      "text/plain": [
       "'\\nprint(\"Optima\", greedyLearner.optimal_configuration)\\nprint(\"Optima margin\", greedyLearner.optimal_configuration_margin)\\nprint(\"allMargins\", allMargins)\\n\\n\\nfig, ax = plt.subplots()\\nax.plot(allMargins)\\nplt.show()\\n'"
      ]
     },
     "execution_count": 8,
     "metadata": {},
     "output_type": "execute_result"
    }
   ],
   "source": [
    "import matplotlib.pyplot as plt\n",
    "from Learner.GreedyLearner import *\n",
    "\n",
    "def totalMarginPerExperiment(envReturn, roundUsers, marginsPerPrice, pulledArm):\n",
    "    #print(\"Experiment recap: #Episodes: {}, #Users: {}, Pulled Arm: {}\".format(len(envReturn), roundUsers, pulledArm))\n",
    "    TotMargin = 0\n",
    "    for e in envReturn:\n",
    "       if e.bought:\n",
    "            #print(\"Experiment recap: Product: {}, Margin of single unit: {}, #Units sold: {}\".format(e.product, marginsPerPrice[e.product][pulledArm[e.product]], e.units))\n",
    "            TotMargin += marginsPerPrice[e.product][pulledArm[e.product]] * e.units\n",
    "    #print(\"Total margin of Experiment: {}, average margin per user: {}\".format(TotMargin, (TotMargin/roundUsers)))\n",
    "    return TotMargin / roundUsers\n",
    " \n",
    "\n",
    "\n",
    "envEvalResults = []\n",
    "for c_path in configurationPathList:\n",
    "    print(\"\\nTrying configuration -> \", c_path)\n",
    "    config = load_config(c_path)\n",
    "    environment = Environment(config_path=c_path)\n",
    "    greedyLearner = GreedyLearner(debug=True)\n",
    " \n",
    "    pulledArm = greedyLearner.pull_arm()\n",
    "    #pulledArm = [2, 2, 0, 3, 0]\n",
    "    environment.setPriceLevels(pulledArm)\n",
    "    environmentRoundResult = environment.round()\n",
    "\n",
    "    n_experiment = 50\n",
    "\n",
    "    previousConfig = []\n",
    "    allMargins = []\n",
    "    #while pulledArm != previousConfig:\n",
    "    while pulledArm != previousConfig:\n",
    "        cumulativeConfigurationMargin = 0\n",
    "        for k in range(0, n_experiment):\n",
    "            cumulativeConfigurationMargin += totalMarginPerExperiment(environmentRoundResult[\"episodes\"], environmentRoundResult[\"roundUsers\"], config[\"marginsPerPrice\"], pulledArm)\n",
    "            environmentRoundResult = environment.round()\n",
    " \n",
    "        average_configuration_margin = ((cumulativeConfigurationMargin / n_experiment))\n",
    "\n",
    "        allMargins.append(average_configuration_margin)\n",
    "        greedyLearner.update(average_configuration_margin)\n",
    "    \n",
    "        previousConfig = pulledArm\n",
    "        pulledArm = greedyLearner.pull_arm()\n",
    "\n",
    "    envEvalResults.append([greedyLearner.optimal_configuration, greedyLearner.optimal_configuration_margin])\n",
    "\n",
    "for i in range (0, len(envEvalResults)):\n",
    "    print(\"config_file {}: otpimal_configuration = {}, Margin = {}\".format((i+1), envEvalResults[i][0], envEvalResults[i][1]))\n",
    "\n",
    "'''\n",
    "print(\"Optima\", greedyLearner.optimal_configuration)\n",
    "print(\"Optima margin\", greedyLearner.optimal_configuration_margin)\n",
    "print(\"allMargins\", allMargins)\n",
    "\n",
    "\n",
    "fig, ax = plt.subplots()\n",
    "ax.plot(allMargins)\n",
    "plt.show()\n",
    "'''\n",
    "   \n"
   ]
  },
  {
   "cell_type": "markdown",
   "metadata": {},
   "source": [
    "#### Results"
   ]
  },
  {
   "cell_type": "code",
   "execution_count": 9,
   "metadata": {},
   "outputs": [
    {
     "data": {
      "image/png": "[encoded data removed]",
      "text/plain": [
       "<Figure size 720x360 with 1 Axes>"
      ]
     },
     "metadata": {
      "needs_background": "light"
     },
     "output_type": "display_data"
    },
    {
     "data": {
      "image/png": "[encoded data removed]",
      "text/plain": [
       "<Figure size 720x360 with 1 Axes>"
      ]
     },
     "metadata": {
      "needs_background": "light"
     },
     "output_type": "display_data"
    },
    {
     "data": {
      "image/png": "[encoded data removed]",
      "text/plain": [
       "<Figure size 720x360 with 1 Axes>"
      ]
     },
     "metadata": {
      "needs_background": "light"
     },
     "output_type": "display_data"
    }
   ],
   "source": [
    "bar_colors = ['lightblue', 'lightgreen', 'orange']\n",
    "for i in range (0, len(configurationPathList)):\n",
    "        evaluation_methods = [\"Baseline\\n{}\".format(baselineResults[i][0]), \"Graph evaluation\\n{}\".format(graphEvalResults[i][0]), \"Environment simulation\\n{}\".format(envEvalResults[i][0])]\n",
    "        margins = [baselineResults[i][1], graphEvalResults[i][1], envEvalResults[i][1]]\n",
    "  \n",
    "        fig = plt.figure(figsize = (10, 5))\n",
    " \n",
    "        # creating the bar plot\n",
    "        plt.bar(evaluation_methods, margins, color =bar_colors,\n",
    "                width = 0.4)\n",
    " \n",
    "        plt.xlabel(\"Optimal configurations\")\n",
    "        plt.ylabel(\"configuration margin\")\n",
    "        plt.title(\"Evaluation of ./config{}\".format(i+1))\n",
    "        plt.show()\n",
    "\n",
    "\n"
   ]
  },
  {
   "cell_type": "markdown",
   "metadata": {},
   "source": [
    "### Run simulation with specific evaluation but different learner (BruteForce vs GreedyLearner)\n",
    "In order to answer to the question, is the solution found by the Greedy the optimal one?"
   ]
  },
  {
   "cell_type": "code",
   "execution_count": 2,
   "metadata": {},
   "outputs": [
    {
     "name": "stdout",
     "output_type": "stream",
     "text": [
      "pulledArm:  [0, 0, 0, 0, 0]\n",
      "pulledArm:  [1, 0, 0, 0, 0]\n",
      "pulledArm:  [0, 1, 0, 0, 0]\n",
      "pulledArm:  [0, 0, 1, 0, 0]\n",
      "pulledArm:  [0, 0, 0, 1, 0]\n",
      "pulledArm:  [0, 0, 0, 0, 1]\n",
      "[6.7, 6.936842105263158, 6.663157894736843, 5.410526315789474, 6.573684210526316] 7.3 [0, 0, 0, 0, 0]\n",
      "pulledArm:  [0, 0, 0, 0, 0]\n",
      "pulledArm:  [0, 0, 0, 0, 0]\n",
      "pulledArm:  [1, 0, 0, 0, 0]\n",
      "pulledArm:  [0, 1, 0, 0, 0]\n",
      "pulledArm:  [0, 0, 1, 0, 0]\n",
      "pulledArm:  [0, 0, 0, 1, 0]\n",
      "pulledArm:  [0, 0, 0, 0, 1]\n",
      "[28.89, 34.81142857142857, 39.36428571428571, 38.82571428571429, 34.56857142857143] 39.36428571428571 [0, 0, 1, 0, 0]\n",
      "pulledArm:  [1, 0, 1, 0, 0]\n",
      "pulledArm:  [0, 1, 1, 0, 0]\n",
      "pulledArm:  [0, 0, 2, 0, 0]\n",
      "pulledArm:  [0, 0, 1, 1, 0]\n",
      "pulledArm:  [0, 0, 1, 0, 1]\n",
      "[47.457142857142856, 53.114285714285714, 21.35857142857143, 57.46571428571429, 52.98714285714286] 57.46571428571429 [0, 0, 1, 1, 0]\n",
      "pulledArm:  [1, 0, 1, 1, 0]\n",
      "pulledArm:  [0, 1, 1, 1, 0]\n",
      "pulledArm:  [0, 0, 2, 1, 0]\n",
      "pulledArm:  [0, 0, 1, 2, 0]\n",
      "pulledArm:  [0, 0, 1, 1, 1]\n",
      "[65.33714285714285, 71.48, 39.238571428571426, 40.43714285714286, 71.08857142857143] 71.48 [0, 1, 1, 1, 0]\n",
      "pulledArm:  [1, 1, 1, 1, 0]\n",
      "pulledArm:  [0, 2, 1, 1, 0]\n",
      "pulledArm:  [0, 1, 2, 1, 0]\n",
      "pulledArm:  [0, 1, 1, 2, 0]\n",
      "pulledArm:  [0, 1, 1, 1, 1]\n",
      "[79.20285714285714, 56.68714285714286, 52.98857142857143, 54.451428571428565, 84.83857142857143] 84.83857142857143 [0, 1, 1, 1, 1]\n",
      "pulledArm:  [1, 1, 1, 1, 1]\n",
      "pulledArm:  [0, 2, 1, 1, 1]\n",
      "pulledArm:  [0, 1, 2, 1, 1]\n",
      "pulledArm:  [0, 1, 1, 2, 1]\n",
      "pulledArm:  [0, 1, 1, 1, 2]\n",
      "[92.56142857142858, 70.31, 66.61142857142858, 68.07428571428571, 71.84571428571428] 92.56142857142858 [1, 1, 1, 1, 1]\n",
      "pulledArm:  [2, 1, 1, 1, 1]\n",
      "pulledArm:  [1, 2, 1, 1, 1]\n",
      "pulledArm:  [1, 1, 2, 1, 1]\n",
      "pulledArm:  [1, 1, 1, 2, 1]\n",
      "pulledArm:  [1, 1, 1, 1, 2]\n",
      "[86.67571428571429, 78.18142857142857, 74.55571428571429, 75.79714285714286, 79.79] 92.56142857142858 [1, 1, 1, 1, 1]\n",
      "pulledArm:  [1, 1, 1, 1, 1]\n",
      "pulledArm:  [0, 0, 0, 0, 0]\n",
      "pulledArm:  [1, 0, 0, 0, 0]\n",
      "pulledArm:  [0, 1, 0, 0, 0]\n",
      "pulledArm:  [0, 0, 1, 0, 0]\n",
      "pulledArm:  [0, 0, 0, 1, 0]\n",
      "pulledArm:  [0, 0, 0, 0, 1]\n",
      "[24.95, 24.4625, 24.44375, 24.625, 24.625] 24.95 [1, 0, 0, 0, 0]\n",
      "pulledArm:  [2, 0, 0, 0, 0]\n",
      "pulledArm:  [1, 1, 0, 0, 0]\n",
      "pulledArm:  [1, 0, 1, 0, 0]\n",
      "pulledArm:  [1, 0, 0, 1, 0]\n",
      "pulledArm:  [1, 0, 0, 0, 1]\n",
      "[24.625, 24.625, 24.76875, 24.95, 24.95] 24.95 [1, 0, 0, 0, 0]\n",
      "pulledArm:  [1, 0, 0, 0, 0]\n",
      "\n",
      "##### RESULTS OF config1 #####\n",
      "Greedy learner Optima:[0, 0, 0, 0, 0] margin = 7.3 \n",
      "Bruteforce Optima:[3, 2, 2, 2, 3] margin = 11.863157894736844 \n",
      "\n",
      "##### RESULTS OF config2 #####\n",
      "Greedy learner Optima:[1, 1, 1, 1, 1] margin = 92.56142857142858 \n",
      "Bruteforce Optima:[1, 1, 1, 1, 1] margin = 92.56142857142858 \n",
      "\n",
      "##### RESULTS OF config3 #####\n",
      "Greedy learner Optima:[1, 0, 0, 0, 0] margin = 24.95 \n",
      "Bruteforce Optima:[3, 3, 3, 3, 3] margin = 40.89375 \n"
     ]
    }
   ],
   "source": [
    "# Fix the evaluator as GraphEvaluator and check how the optimal reward differ in the two classes\n",
    "\n",
    "from Model.ConfigurationParametersAverage import mergeUserClasses\n",
    "from Learner.GreedyLearner import *\n",
    "from Learner.BruteForce import *\n",
    "from Model.Evaluator.GraphEvaluator import GraphEvaluator\n",
    "\n",
    "\n",
    "configurationPathList = ['./Configs/configuration5.json', './Configs/config3.json', './Configs/configuration4.json']\n",
    "results = []\n",
    "for config in mergeUserClasses(configurationPathList, False):\n",
    "    greedyLearner = GreedyLearner(debug=True)\n",
    "    bruteForce = BruteForce()\n",
    "\n",
    "    ##### Greedy learner: #####\n",
    "    greedy_margins_to_plot = []\n",
    "    greedy_arms_to_plot = []\n",
    "    pulledArm = greedyLearner.pull_arm()\n",
    "    previousConfig = []\n",
    "    greedyIteration = 0\n",
    "    while pulledArm != previousConfig:\n",
    "        greedyIteration += 1\n",
    "        print(\"pulledArm: \", pulledArm)\n",
    "        armMargins = []\n",
    "        armConvRates = []\n",
    "        for k in range(0, len(pulledArm)):\n",
    "            armMargins.append(config[\"marginsPerPrice\"][k][pulledArm[k]])\n",
    "            armConvRates.append(config['conversionRateLevels'][k][pulledArm[k]])\n",
    "  \n",
    "        # Initialization of GraphEvaluator object:\n",
    "        graphEval = GraphEvaluator(products_list=config['productList'], click_prob_matrix=config['click_prob'], lambda_prob=config['lambda_p'],\n",
    "                    alphas=config['alphas'], conversion_rates=armConvRates, margins=armMargins, units_mean=config['units_mean'], verbose=True)\n",
    " \n",
    "        # Price configuration evaluation and greedy Learner margin update:\n",
    "        margin = graphEval.computeMargin()\n",
    "        greedyLearner.update(margin)\n",
    "    \n",
    "        greedy_margins_to_plot.append(margin)\n",
    "        greedy_arms_to_plot.append(\"{}\".format(pulledArm))\n",
    "\n",
    "        previousConfig = pulledArm\n",
    "        pulledArm = greedyLearner.pull_arm()\n",
    "\n",
    "\n",
    "    ##### Brute force: #####\n",
    "\n",
    "    bruteForce_margins_to_plot = []\n",
    "    bruteForce_arms_to_plot = []\n",
    "\n",
    "    bruteForceIteration = 0\n",
    "    num_prices = len(config['conversionRateLevels'][0])\n",
    "    num_prods = len(config['alphas'])\n",
    "    for i in range(0, num_prices**num_prods):\n",
    "        bruteForceIteration += 1\n",
    "        pulledArm = bruteForce.pull_arm()\n",
    "        #print(\"pulledArm: \", pulledArm)\n",
    "        armMargins = []\n",
    "        armConvRates = []\n",
    "        for k in range(0, len(pulledArm)):\n",
    "            armMargins.append(config[\"marginsPerPrice\"][k][pulledArm[k]])\n",
    "            armConvRates.append(config['conversionRateLevels'][k][pulledArm[k]])\n",
    "  \n",
    "        # Initialization of GraphEvaluator object:\n",
    "        graphEval = GraphEvaluator(products_list=config['productList'], click_prob_matrix=config['click_prob'], lambda_prob=config['lambda_p'],\n",
    "                 alphas=config['alphas'], conversion_rates=armConvRates, margins=armMargins, units_mean=config['units_mean'], verbose=True)\n",
    " \n",
    "        # Price configuration evaluation and greedy Learner margin update:\n",
    "        margin = graphEval.computeMargin()\n",
    "        #print(\"Margin: \", margin)\n",
    "        bruteForce.update(margin)\n",
    "\n",
    "        bruteForce_margins_to_plot.append(margin)\n",
    "        bruteForce_arms_to_plot.append(\"{}\".format(pulledArm))\n",
    "\n",
    "    greedy_results = [greedyLearner.optimal_configuration, greedyLearner.optimal_configuration_margin]\n",
    "    bruteForce_results = [bruteForce.optimal_configuration, bruteForce.optimal_configuration_margin]\n",
    "    config_results = {\n",
    "        \"greedy_results\": greedy_results,\n",
    "        \"bruteForce_results\": bruteForce_results,\n",
    "        \"greedy_arms_to_plot\": greedy_margins_to_plot,\n",
    "        \"greedy_iterations\": greedyIteration,\n",
    "        \"greedy_margins_to_plot\": greedy_margins_to_plot,\n",
    "        \"bruteForce_arms_to_plot\": bruteForce_arms_to_plot,\n",
    "        \"bruteForce_margins_to_plot\": bruteForce_margins_to_plot,\n",
    "        \"bruteForce_iterations\": bruteForceIteration\n",
    "    }\n",
    "    results.append(config_results)\n",
    "    #print(\"\\n##### RESULTS OF {} #####\".format(c_path))\n",
    "    #print(\"Greedy learner Optima:{} margin = {} \".format(greedyLearner.optimal_configuration, greedyLearner.optimal_configuration_margin))\n",
    "    #print(\"Bruteforce Optima:{} margin = {} \".format(bruteForce.optimal_configuration, bruteForce.optimal_configuration_margin))\n",
    "\n",
    "for i in range(0, len(configurationPathList)):\n",
    "    print(\"\\n##### RESULTS OF config{} #####\".format(i+1))\n",
    "    print(\"Greedy learner Optima:{} margin = {} \".format(results[i][\"greedy_results\"][0], results[i][\"greedy_results\"][1]))\n",
    "    print(\"Bruteforce Optima:{} margin = {} \".format(results[i][\"bruteForce_results\"][0], results[i][\"bruteForce_results\"][1]))\n",
    "\n"
   ]
  },
  {
   "cell_type": "code",
   "execution_count": null,
   "metadata": {},
   "outputs": [],
   "source": [
    "# To evaluate a single specific price configuration\n",
    "config = load_config('./Configs/configuration5.json')\n",
    "pulledArm = [3, 2, 3, 3, 2] \n",
    "\n",
    "armMargins = []\n",
    "armConvRates = []\n",
    "for k in range(0, len(pulledArm)):\n",
    "    armMargins.append(config[\"marginsPerPrice\"][k][pulledArm[k]])\n",
    "    armConvRates.append(config['conversionRateLevels'][k][pulledArm[k]])\n",
    "  \n",
    "# Initialization of GraphEvaluator object:\n",
    "graphEval = GraphEvaluator(products_list=config['productList'], click_prob_matrix=config['click_prob'], lambda_prob=config['lambda_p'],\n",
    "            alphas=config['alphas'], conversion_rates=armConvRates, margins=armMargins, units_mean=config['units_mean'], verbose=True)\n",
    " \n",
    "# Price configuration evaluation and greedy Learner margin update:\n",
    "margin = graphEval.computeMargin()\n",
    "greedyLearner.update(margin)\n",
    "\n",
    "print(\"pulled arm: \", pulledArm)\n",
    "print(\"margin: \", margin)"
   ]
  },
  {
   "cell_type": "markdown",
   "metadata": {},
   "source": [
    "#### Plot the results"
   ]
  },
  {
   "cell_type": "code",
   "execution_count": 5,
   "metadata": {},
   "outputs": [
    {
     "data": {
      "image/png": "[encoded data removed]",
      "text/plain": [
       "<Figure size 720x360 with 1 Axes>"
      ]
     },
     "metadata": {
      "needs_background": "light"
     },
     "output_type": "display_data"
    },
    {
     "data": {
      "image/png": "[encoded data removed]",
      "text/plain": [
       "<Figure size 720x360 with 1 Axes>"
      ]
     },
     "metadata": {
      "needs_background": "light"
     },
     "output_type": "display_data"
    },
    {
     "data": {
      "image/png": "[encoded data removed]",
      "text/plain": [
       "<Figure size 720x360 with 1 Axes>"
      ]
     },
     "metadata": {
      "needs_background": "light"
     },
     "output_type": "display_data"
    }
   ],
   "source": [
    "import matplotlib.pyplot as plt\n",
    "\n",
    "bar_colors = ['lightblue', 'lightgreen', 'orange']\n",
    "optima_configurations = [\"Greedylearner\\n{}\".format(greedyLearner.optimal_configuration), \"Bruteforce\\n{}\".format(bruteForce.optimal_configuration)]\n",
    "configuration_margins = [greedyLearner.optimal_configuration_margin, bruteForce.optimal_configuration_margin]\n",
    "\n",
    "for i in range (0, len(configurationPathList)):\n",
    "    c_path = configurationPathList[i]\n",
    "    fig = plt.figure(figsize = (10, 5))\n",
    "    \n",
    "    '''\n",
    "    greedy_configuration = results[i][\"greedy_results\"][0]\n",
    "    greedy_margin = results[i][\"greedy_results\"][1]\n",
    "\n",
    "    bruteForce_configuration = results[i][\"bruteForce_results\"][0]\n",
    "    bruteForce_margin = results[i][\"bruteForce_results\"][1]\n",
    "    '''\n",
    "\n",
    "    optima_configurations = [\"Greedylearner\\n{}\".format(results[i][\"greedy_results\"][0]), \"Bruteforce\\n{}\".format(results[i][\"bruteForce_results\"][0]), \"delta\"]\n",
    "    configuration_margins = [results[i][\"greedy_results\"][1], results[i][\"bruteForce_results\"][1], (results[i][\"bruteForce_results\"][1]-results[i][\"greedy_results\"][1])]\n",
    "\n",
    "    # creating the bar plot\n",
    "    plt.bar(optima_configurations, configuration_margins, color = bar_colors, width = 0.4)\n",
    " \n",
    "    plt.xlabel(\"Optimal configurations\")\n",
    "    plt.ylabel(\"configuration margin\")\n",
    "    plt.title(\"greedy learner vs bruteforce ({})\".format(c_path))\n",
    "    plt.show()\n"
   ]
  }
 ],
 "metadata": {
  "interpreter": {
   "hash": "31f2aee4e71d21fbe5cf8b01ff0e069b9275f58929596ceb00d14d90e3e16cd6"
  },
  "kernelspec": {
   "display_name": "Python 3.8.2 64-bit",
   "language": "python",
   "name": "python3"
  },
  "language_info": {
   "codemirror_mode": {
    "name": "ipython",
    "version": 3
   },
   "file_extension": ".py",
   "mimetype": "text/x-python",
   "name": "python",
   "nbconvert_exporter": "python",
   "pygments_lexer": "ipython3",
   "version": "3.8.2"
  },
  "orig_nbformat": 4
 },
 "nbformat": 4,
 "nbformat_minor": 2
}
