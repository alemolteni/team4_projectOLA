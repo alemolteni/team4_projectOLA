{
 "cells": [
  {
   "cell_type": "markdown",
   "metadata": {
    "collapsed": false,
    "pycharm": {
     "name": "#%% md\n"
    }
   },
   "source": [
    "# Thompson Sampling - Step 3:\n",
    "Optimization with uncertain conversion rates. Focus on the situation in which the binary features cannot be observed and therefore data are aggregated. Design bandit algorithms (based on UCB and TS) to face the case in which the conversion rates are unknown. Develop the algorithms by Python and evaluate their performance when applied to your simulator."
   ]
  },
  {
   "cell_type": "code",
   "execution_count": 6,
   "metadata": {},
   "outputs": [],
   "source": [
    "from Model.ConfigurationParametersAverage import mergeUserClasses\n",
    "from Environment import Environment\n",
    "from Learner.TS_CR import *\n",
    "from Learner.TS_Alphas import *\n",
    "from Learner.TS_GW import *\n",
    "\n",
    "from Model.Product import *\n",
    "import json\n",
    "import matplotlib.pyplot as plt\n",
    "from Model.Evaluator.GraphEvaluator import *\n",
    "from Model.Evaluator.MultiClassEvaluator import *\n",
    "from tqdm import tqdm\n",
    "from IPython.display import clear_output"
   ]
  },
  {
   "cell_type": "code",
   "execution_count": 7,
   "metadata": {},
   "outputs": [],
   "source": [
    "# ======== TUNABLE PARAMETERS ===========\n",
    "n_experiments = 200\n",
    "\n",
    "# Step 3 = \"TS_CR\" ==> Uncertain Conversion Rates\n",
    "# Step 4 = \"TS_Alphas\" ==> Uncertain CRates, Alphas, #Units\n",
    "# Step 5 = \"TS_GW\" ==> Uncertain CRates, Graph Weights\n",
    "learner = \"TS_Alphas\"\n"
   ]
  },
  {
   "cell_type": "code",
   "execution_count": 8,
   "metadata": {},
   "outputs": [],
   "source": [
    "def get_learner(name=\"TS_CR\", margins=None, alphas=None, secondary_prod=None, click_prob=None, units_mean=None, l=None):\n",
    "    if name == \"TS_CR\":\n",
    "        return TS_CR(margins=margins, alphas=alphas, secondary_prod=secondary_prod, \n",
    "                    click_prob=click_prob, units_mean=units_mean, l=l)\n",
    "    elif name == \"TS_Alphas\":\n",
    "        return TS_Alphas(margins=margins, secondary_prod=secondary_prod, \n",
    "                        click_prob=click_prob, l=l)\n",
    "    elif name == \"TS_GW\":\n",
    "        return TS_GW(margins=margins, alphas=alphas, secondary_prod=secondary_prod, \n",
    "                     units_mean=units_mean, l=l)"
   ]
  },
  {
   "cell_type": "code",
   "execution_count": 9,
   "metadata": {},
   "outputs": [
    {
     "name": "stdout",
     "output_type": "stream",
     "text": [
      "ProdList=5, Alphas=5, ConvRates=5\n",
      "ProdList=5, Alphas=5, ConvRates=5\n",
      "ProdList=5, Alphas=5, ConvRates=5\n",
      "ProdList=5, Alphas=5, ConvRates=5\n",
      "ProdList=5, Alphas=5, ConvRates=5\n"
     ]
    }
   ],
   "source": [
    "files = ['./Configs/config1.json', './Configs/config2.json','./Configs/config3.json', './Configs/configuration4.json', './Configs/configuration5.json']\n",
    "\n",
    "envs = []\n",
    "mc_evals = []\n",
    "tsLearners = []\n",
    "config_margins = []\n",
    "optimal_arms = []\n",
    "conv_rates = []\n",
    "prod_lists = []\n",
    "click_probs = []\n",
    "lambdas = []\n",
    "alphas = []\n",
    "units_means = []\n",
    "actual_units_means = []\n",
    "clairvoyant_opt_rew = []\n",
    "n_loops = 1\n",
    "\n",
    "for i in range(0, len(files)):\n",
    "    envs.append(Environment(config_path=files[i]))\n",
    "    mc_evals.append(MultiClassEvaluator(config_path=files[i]))\n",
    "    config = mergeUserClasses([files[i]], False)[0]\n",
    "    l = config[\"lambda_p\"]\n",
    "    config_margins.append(config[\"marginsPerPrice\"])\n",
    "    optimal_arms.append(config[\"optimalConfig\"])\n",
    "    conv_rates.append(config[\"conversionRateLevels\"])\n",
    "    prod_lists.append(config[\"productList\"])\n",
    "    print(\"ProdList={}, Alphas={}, ConvRates={}\".format(len(config[\"productList\"]),len(config[\"alphas\"]),len(config[\"conversionRateLevels\"])))\n",
    "    click_probs.append(config[\"click_prob\"])\n",
    "    lambdas.append(config['lambda_p'])\n",
    "    alphas.append(config[\"alphas\"])\n",
    "    actual_units_means.append(config[\"actual_units_mean\"])\n",
    "    clairvoyant_opt_rew.append(config[\"optimalMargin\"])\n",
    "    units_means.append(config[\"units_mean\"])"
   ]
  },
  {
   "cell_type": "code",
   "execution_count": 11,
   "metadata": {
    "collapsed": false,
    "pycharm": {
     "name": "#%%\n"
    }
   },
   "outputs": [
    {
     "name": "stderr",
     "output_type": "stream",
     "text": [
      "  0%|          | 0/200 [00:00<?, ?it/s]\n"
     ]
    },
    {
     "ename": "AssertionError",
     "evalue": "",
     "output_type": "error",
     "traceback": [
      "\u001b[1;31m---------------------------------------------------------------------------\u001b[0m",
      "\u001b[1;31mAssertionError\u001b[0m                            Traceback (most recent call last)",
      "\u001b[1;32md:\\School\\2021.22\\II Semestre\\Online Learning Applications\\Project\\team4_projectOLA\\Step3-TS.ipynb Cella 6\u001b[0m in \u001b[0;36m<cell line: 6>\u001b[1;34m()\u001b[0m\n\u001b[0;32m     <a href='vscode-notebook-cell:/d%3A/School/2021.22/II%20Semestre/Online%20Learning%20Applications/Project/team4_projectOLA/Step3-TS.ipynb#ch0000004?line=15'>16</a>\u001b[0m armConvRates \u001b[39m=\u001b[39m []\n\u001b[0;32m     <a href='vscode-notebook-cell:/d%3A/School/2021.22/II%20Semestre/Online%20Learning%20Applications/Project/team4_projectOLA/Step3-TS.ipynb#ch0000004?line=17'>18</a>\u001b[0m \u001b[39m# compute the margin for the TS\u001b[39;00m\n\u001b[1;32m---> <a href='vscode-notebook-cell:/d%3A/School/2021.22/II%20Semestre/Online%20Learning%20Applications/Project/team4_projectOLA/Step3-TS.ipynb#ch0000004?line=18'>19</a>\u001b[0m pulledArm \u001b[39m=\u001b[39m tsLearners[i]\u001b[39m.\u001b[39;49mpull_arm()\n\u001b[0;32m     <a href='vscode-notebook-cell:/d%3A/School/2021.22/II%20Semestre/Online%20Learning%20Applications/Project/team4_projectOLA/Step3-TS.ipynb#ch0000004?line=20'>21</a>\u001b[0m envs[i]\u001b[39m.\u001b[39msetPriceLevels(pulledArm)\n\u001b[0;32m     <a href='vscode-notebook-cell:/d%3A/School/2021.22/II%20Semestre/Online%20Learning%20Applications/Project/team4_projectOLA/Step3-TS.ipynb#ch0000004?line=21'>22</a>\u001b[0m ts_interactions \u001b[39m=\u001b[39m envs[i]\u001b[39m.\u001b[39mround()\n",
      "File \u001b[1;32md:\\School\\2021.22\\II Semestre\\Online Learning Applications\\Project\\team4_projectOLA\\Learner\\TS_CR.py:34\u001b[0m, in \u001b[0;36mTS_CR.pull_arm\u001b[1;34m(self)\u001b[0m\n\u001b[0;32m     33\u001b[0m \u001b[39mdef\u001b[39;00m \u001b[39mpull_arm\u001b[39m(\u001b[39mself\u001b[39m):\n\u001b[1;32m---> 34\u001b[0m     \u001b[39mreturn\u001b[39;00m \u001b[39msuper\u001b[39;49m(TS_CR, \u001b[39mself\u001b[39;49m)\u001b[39m.\u001b[39;49mpull_arm()\n",
      "File \u001b[1;32md:\\School\\2021.22\\II Semestre\\Online Learning Applications\\Project\\team4_projectOLA\\Learner\\TS.py:27\u001b[0m, in \u001b[0;36mTS.pull_arm\u001b[1;34m(self)\u001b[0m\n\u001b[0;32m     24\u001b[0m         \u001b[39mself\u001b[39m\u001b[39m.\u001b[39mused_conv_rates[i][j] \u001b[39m=\u001b[39m np\u001b[39m.\u001b[39mrandom\u001b[39m.\u001b[39mbeta(params[\u001b[39m0\u001b[39m], params[\u001b[39m1\u001b[39m])\n\u001b[0;32m     25\u001b[0m \u001b[39m# print(\"Generated conv rates {}\".format(self.used_conv_rates))\u001b[39;00m\n\u001b[0;32m     26\u001b[0m \u001b[39m# XXX must be the expected reward and must be computed for each product and price level\u001b[39;00m\n\u001b[1;32m---> 27\u001b[0m \u001b[39mself\u001b[39m\u001b[39m.\u001b[39mexpected_reward \u001b[39m=\u001b[39m \u001b[39mself\u001b[39;49m\u001b[39m.\u001b[39;49mcompute_expected_rewards()\n\u001b[0;32m     28\u001b[0m \u001b[39mself\u001b[39m\u001b[39m.\u001b[39mconfiguration \u001b[39m=\u001b[39m np\u001b[39m.\u001b[39margmax(\u001b[39mself\u001b[39m\u001b[39m.\u001b[39mexpected_reward, axis\u001b[39m=\u001b[39m\u001b[39m1\u001b[39m)\n\u001b[0;32m     29\u001b[0m \u001b[39m# print(self.expected_reward)\u001b[39;00m\n",
      "File \u001b[1;32md:\\School\\2021.22\\II Semestre\\Online Learning Applications\\Project\\team4_projectOLA\\Learner\\TS_CR.py:45\u001b[0m, in \u001b[0;36mTS_CR.compute_expected_rewards\u001b[1;34m(self)\u001b[0m\n\u001b[0;32m     43\u001b[0m         test_config \u001b[39m=\u001b[39m \u001b[39mself\u001b[39m\u001b[39m.\u001b[39mconfiguration\n\u001b[0;32m     44\u001b[0m         test_config[i] \u001b[39m=\u001b[39m j\n\u001b[1;32m---> 45\u001b[0m         margin \u001b[39m=\u001b[39m \u001b[39mself\u001b[39;49m\u001b[39m.\u001b[39;49mcompute_product_margin(test_config)\n\u001b[0;32m     46\u001b[0m         exp_rewards[i, j] \u001b[39m=\u001b[39m margin\n\u001b[0;32m     48\u001b[0m \u001b[39mreturn\u001b[39;00m exp_rewards\n",
      "File \u001b[1;32md:\\School\\2021.22\\II Semestre\\Online Learning Applications\\Project\\team4_projectOLA\\Learner\\TS_CR.py:58\u001b[0m, in \u001b[0;36mTS_CR.compute_product_margin\u001b[1;34m(self, test_config)\u001b[0m\n\u001b[0;32m     55\u001b[0m     armConvRates\u001b[39m.\u001b[39mappend(\u001b[39mself\u001b[39m\u001b[39m.\u001b[39mused_conv_rates[k][test_config[k]])\n\u001b[0;32m     56\u001b[0m     \u001b[39m# armConvRates.append(np.random.beta(self.conversion_rates_distro[k][self.configuration[k]][0], self.conversion_rates_distro[k][self.configuration[k]][1]))\u001b[39;00m\n\u001b[1;32m---> 58\u001b[0m graphEval \u001b[39m=\u001b[39m GraphEvaluator(products_list\u001b[39m=\u001b[39;49m\u001b[39mself\u001b[39;49m\u001b[39m.\u001b[39;49mproduct_list, click_prob_matrix\u001b[39m=\u001b[39;49m\u001b[39mself\u001b[39;49m\u001b[39m.\u001b[39;49mclick_prob,\n\u001b[0;32m     59\u001b[0m                            lambda_prob\u001b[39m=\u001b[39;49m\u001b[39mself\u001b[39;49m\u001b[39m.\u001b[39;49ml, alphas\u001b[39m=\u001b[39;49m\u001b[39mself\u001b[39;49m\u001b[39m.\u001b[39;49malphas, conversion_rates\u001b[39m=\u001b[39;49marmConvRates,\n\u001b[0;32m     60\u001b[0m                            margins\u001b[39m=\u001b[39;49marmMargins,\n\u001b[0;32m     61\u001b[0m                            units_mean\u001b[39m=\u001b[39;49m\u001b[39mself\u001b[39;49m\u001b[39m.\u001b[39;49munits_mean, verbose\u001b[39m=\u001b[39;49m\u001b[39mFalse\u001b[39;49;00m, convert_units\u001b[39m=\u001b[39;49m\u001b[39mFalse\u001b[39;49;00m)\n\u001b[0;32m     62\u001b[0m margin \u001b[39m=\u001b[39m graphEval\u001b[39m.\u001b[39mcomputeMargin()\n\u001b[0;32m     63\u001b[0m \u001b[39mreturn\u001b[39;00m margin\n",
      "File \u001b[1;32md:\\School\\2021.22\\II Semestre\\Online Learning Applications\\Project\\team4_projectOLA\\Model\\Evaluator\\GraphEvaluator.py:10\u001b[0m, in \u001b[0;36mGraphEvaluator.__init__\u001b[1;34m(self, products_list, click_prob_matrix, lambda_prob, conversion_rates, alphas, margins, units_mean, convert_units, verbose)\u001b[0m\n\u001b[0;32m      8\u001b[0m \u001b[39mdef\u001b[39;00m \u001b[39m__init__\u001b[39m(\u001b[39mself\u001b[39m, products_list\u001b[39m=\u001b[39m[], click_prob_matrix\u001b[39m=\u001b[39m\u001b[39mNone\u001b[39;00m, lambda_prob\u001b[39m=\u001b[39m\u001b[39m0.5\u001b[39m, conversion_rates\u001b[39m=\u001b[39m[], \n\u001b[0;32m      9\u001b[0m             alphas\u001b[39m=\u001b[39m[], margins\u001b[39m=\u001b[39m[], units_mean\u001b[39m=\u001b[39m\u001b[39mNone\u001b[39;00m, convert_units\u001b[39m=\u001b[39m\u001b[39mTrue\u001b[39;00m, verbose\u001b[39m=\u001b[39m\u001b[39mFalse\u001b[39;00m):\n\u001b[1;32m---> 10\u001b[0m     \u001b[39msuper\u001b[39;49m(GraphEvaluator, \u001b[39mself\u001b[39;49m)\u001b[39m.\u001b[39;49m\u001b[39m__init__\u001b[39;49m(products_list\u001b[39m=\u001b[39;49mproducts_list, click_prob_matrix\u001b[39m=\u001b[39;49mclick_prob_matrix, lambda_prob\u001b[39m=\u001b[39;49mlambda_prob, conversion_rates\u001b[39m=\u001b[39;49mconversion_rates, \n\u001b[0;32m     11\u001b[0m             alphas\u001b[39m=\u001b[39;49malphas, margins\u001b[39m=\u001b[39;49mmargins, units_mean\u001b[39m=\u001b[39;49munits_mean, convert_units\u001b[39m=\u001b[39;49mconvert_units, verbose\u001b[39m=\u001b[39;49mverbose)\n\u001b[0;32m     13\u001b[0m     lambda_mat \u001b[39m=\u001b[39m np\u001b[39m.\u001b[39mfull((\u001b[39mself\u001b[39m\u001b[39m.\u001b[39mn_products,\u001b[39mself\u001b[39m\u001b[39m.\u001b[39mn_products), \u001b[39m0\u001b[39m, dtype\u001b[39m=\u001b[39m\u001b[39mfloat\u001b[39m)\n\u001b[0;32m     14\u001b[0m     \u001b[39mfor\u001b[39;00m i \u001b[39min\u001b[39;00m \u001b[39mrange\u001b[39m(\u001b[39m0\u001b[39m,\u001b[39mlen\u001b[39m(products_list)):\n",
      "File \u001b[1;32md:\\School\\2021.22\\II Semestre\\Online Learning Applications\\Project\\team4_projectOLA\\Model\\Evaluator\\Evaluator.py:10\u001b[0m, in \u001b[0;36mEvaluator.__init__\u001b[1;34m(self, products_list, click_prob_matrix, lambda_prob, conversion_rates, alphas, margins, verbose, units_mean, convert_units)\u001b[0m\n\u001b[0;32m      8\u001b[0m \u001b[39massert\u001b[39;00m \u001b[39mlen\u001b[39m(products_list) \u001b[39m==\u001b[39m \u001b[39mlen\u001b[39m(conversion_rates) \u001b[39mand\u001b[39;00m \u001b[39mlen\u001b[39m(products_list) \u001b[39m==\u001b[39m \u001b[39mlen\u001b[39m(alphas)\n\u001b[0;32m      9\u001b[0m \u001b[39massert\u001b[39;00m \u001b[39mlen\u001b[39m(products_list) \u001b[39m==\u001b[39m \u001b[39mlen\u001b[39m(margins)\n\u001b[1;32m---> 10\u001b[0m \u001b[39massert\u001b[39;00m \u001b[39mlen\u001b[39m(alphas) \u001b[39m==\u001b[39m \u001b[39mlen\u001b[39m(units_mean)\n\u001b[0;32m     11\u001b[0m \u001b[39massert\u001b[39;00m click_prob_matrix \u001b[39mis\u001b[39;00m \u001b[39mnot\u001b[39;00m \u001b[39mNone\u001b[39;00m\n\u001b[0;32m     12\u001b[0m \u001b[39massert\u001b[39;00m units_mean \u001b[39mis\u001b[39;00m \u001b[39mnot\u001b[39;00m \u001b[39mNone\u001b[39;00m\n",
      "\u001b[1;31mAssertionError\u001b[0m: "
     ]
    },
    {
     "data": {
      "image/png": "[encoded data removed]",
      "text/plain": [
       "<Figure size 1152x864 with 10 Axes>"
      ]
     },
     "metadata": {
      "needs_background": "light"
     },
     "output_type": "display_data"
    }
   ],
   "source": [
    "tot_ts_learner_margins = []\n",
    "tot_optimal_margins = []\n",
    "tsLearners = []\n",
    "fig, axes = plt.subplots(ncols=2, nrows=len(envs), sharex=True, figsize=(16,12))\n",
    "\n",
    "for i in range(0, len(envs)):\n",
    "    tsLearners.append(get_learner(name=learner, margins=config_margins[i], alphas=alphas[i], secondary_prod=prod_lists[i],\n",
    "                                  click_prob=click_probs[i], units_mean=actual_units_means[i], l=l))\n",
    "    \n",
    "    ts_learner_graph_margins = np.array([])\n",
    "    ts_learner_env_margins = np.array([])\n",
    "    actual_means = []\n",
    "    \n",
    "    for j in tqdm(range(0, n_experiments)):\n",
    "        armMargins = []\n",
    "        armConvRates = []\n",
    "\n",
    "        # compute the margin for the TS\n",
    "        pulledArm = tsLearners[i].pull_arm()\n",
    "        \n",
    "        envs[i].setPriceLevels(pulledArm)\n",
    "        ts_interactions = envs[i].round()\n",
    "        ge_margin = mc_evals[i].computeMargin(pulledArm)\n",
    "                    \n",
    "        env_margin = 0\n",
    "        for k in range(0,len(ts_interactions)):\n",
    "            # ts_env_margin = 0\n",
    "            env_margin = env_margin + ts_interactions[k].linearizeMargin(config_margins[i])\n",
    "        env_margin = env_margin / len(ts_interactions)\n",
    "\n",
    "        tsLearners[i].update(ts_interactions)\n",
    "\n",
    "        ts_learner_graph_margins = np.append(ts_learner_graph_margins, ge_margin)\n",
    "        ts_learner_env_margins = np.append(ts_learner_env_margins, env_margin)\n",
    "\n",
    "    optimal = np.full((n_experiments), clairvoyant_opt_rew[i])\n",
    "\n",
    "    # =========== PLOTTING PART ================    \n",
    "    config_name = files[i][files[i].rfind('/')-len(files[i])+1:]\n",
    "\n",
    "    x = np.linspace(0, n_experiments, n_experiments)\n",
    "    axes[i,0].plot(x, optimal)\n",
    "    axes[i,0].plot(x, ts_learner_graph_margins)\n",
    "    # axes[i,0].plot(x, ts_learner_env_margins)\n",
    "    axes[i,0].set_xlabel(\"Time step\")\n",
    "    axes[i,0].set_ylabel(\"Margins difference\\n{}\".format(config_name))\n",
    "    axes[0,0].set_title(\"Difference between margins of BruteForce and TS\")\n",
    "\n",
    "    axes[i,1].plot(x,optimal)\n",
    "    cum_rews = np.cumsum(ts_learner_graph_margins)\n",
    "    avg_cum_rews = np.divide(cum_rews, np.arange(1,n_experiments+1))\n",
    "    axes[i,1].plot(x, avg_cum_rews)\n",
    "    cum_rews = np.cumsum(ts_learner_env_margins)\n",
    "    avg_cum_rews = np.divide(cum_rews, np.arange(1,n_experiments+1))\n",
    "    axes[i,1].plot(x, avg_cum_rews)\n",
    "    axes[i,1].set_xlabel(\"Time step\")\n",
    "    axes[i,1].set_ylabel(\"Margin\")\n",
    "    axes[0,1].set_title(\"Average reward: Clairvoyant vs TS\")\n",
    "    print(\"Optimal arm found:\\n\\t\", tsLearners[i].pull_arm(), \"\\nOptimal theoretical arm:\\n\\t\", optimal_arms[i])\n",
    "\n",
    "clear_output(wait=True)\n",
    "plt.show()\n"
   ]
  }
 ],
 "metadata": {
  "interpreter": {
   "hash": "14160fb0de3f36180f5e1dd791af52bebcb3f3583a6e540ccb943ed2b61e8d42"
  },
  "kernelspec": {
   "display_name": "Python 3.9.13 64-bit (windows store)",
   "language": "python",
   "name": "python3"
  },
  "language_info": {
   "codemirror_mode": {
    "name": "ipython",
    "version": 3
   },
   "file_extension": ".py",
   "mimetype": "text/x-python",
   "name": "python",
   "nbconvert_exporter": "python",
   "pygments_lexer": "ipython3",
   "version": "3.9.13"
  }
 },
 "nbformat": 4,
 "nbformat_minor": 0
}
