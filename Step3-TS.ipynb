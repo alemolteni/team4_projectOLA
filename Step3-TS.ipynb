{
 "cells": [
  {
   "cell_type": "markdown",
   "metadata": {
    "collapsed": false,
    "pycharm": {
     "name": "#%% md\n"
    }
   },
   "source": [
    "# Thompson Sampling - Step 3:\n",
    "Optimization with uncertain conversion rates. Focus on the situation in which the binary features cannot be observed and therefore data are aggregated. Design bandit algorithms (based on UCB and TS) to face the case in which the conversion rates are unknown. Develop the algorithms by Python and evaluate their performance when applied to your simulator."
   ]
  },
  {
   "cell_type": "code",
   "execution_count": null,
   "metadata": {},
   "outputs": [],
   "source": [
    "from Model.ConfigurationParametersAverage import mergeUserClasses\n",
    "from Environment import Environment\n",
    "from Learner.TS_CR import *\n",
    "from Model.Product import *\n",
    "import json\n",
    "import matplotlib.pyplot as plt\n",
    "from Model.Evaluator.GraphEvaluator import *"
   ]
  },
  {
   "cell_type": "code",
   "execution_count": null,
   "metadata": {},
   "outputs": [],
   "source": [
    "def total_margin_per_node(envReturn, marginsPerPrice, pulledArm):\n",
    "    TotMargin = 0\n",
    "    for e in envReturn[\"episodes\"]:\n",
    "        if e.bought:\n",
    "            TotMargin += marginsPerPrice[e.product][pulledArm[e.product]] * e.units\n",
    "    return TotMargin"
   ]
  },
  {
   "cell_type": "code",
   "execution_count": null,
   "metadata": {},
   "outputs": [],
   "source": [
    "files = ['./Configs/config1.json', './Configs/config3.json', './Configs/configuration4.json', './Configs/configuration5.json']\n",
    "#files = ['./Configs/config1.json', './Configs/Config2.json']\n",
    "env = []\n",
    "tsLearners = []\n",
    "config_margins = []\n",
    "optimal_arms = []\n",
    "conv_rates = []\n",
    "prod_lists = []\n",
    "click_probs = []\n",
    "lambdas = []\n",
    "alphas = []\n",
    "units_means = []\n",
    "clairvoyant_opt_rew = []\n",
    "n_loops = 1\n",
    "\n",
    "for i in range(0, len(files)):\n",
    "    env.append(Environment(config_path=files[i]))\n",
    "    # ERRORE E' QUI !!!!!!!!!! ----> COME SI FA IL MERGING DELLE CLASSI???'\n",
    "    config = mergeUserClasses([files[i]], False)[0]\n",
    "    l = config[\"lambda_p\"]\n",
    "    config_margins.append(config[\"marginsPerPrice\"])\n",
    "    optimal_arms.append(config[\"optimalConfig\"])\n",
    "    conv_rates.append(config[\"conversionRateLevels\"])\n",
    "    prod_lists.append(config[\"productList\"])\n",
    "    print(\"ProdList={}, Alphas={}, ConvRates={}\".format(len(config[\"productList\"]),len(config[\"alphas\"]),len(config[\"conversionRateLevels\"])))\n",
    "    click_probs.append(config[\"click_prob\"])\n",
    "    lambdas.append(config['lambda_p'])\n",
    "    alphas.append(config[\"alphas\"])\n",
    "    clairvoyant_opt_rew.append(config[\"optimalMargin\"])\n",
    "    units_means.append(config[\"units_mean\"])"
   ]
  },
  {
   "cell_type": "code",
   "execution_count": null,
   "metadata": {
    "collapsed": false,
    "pycharm": {
     "name": "#%%\n"
    }
   },
   "outputs": [],
   "source": [
    "tot_ts_learner_margins = []\n",
    "tot_optimal_margins = []\n",
    "tsLearners = []\n",
    "n_experiments = 500\n",
    "fig, axes = plt.subplots(ncols=2, nrows=len(env), sharex=True, figsize=(16,12))\n",
    "\n",
    "for i in range(0, len(env)):\n",
    "    tsLearners.append(TS_CR(margins=config_margins[i], alphas=alphas[i], secondary_prod=prod_lists[i],\n",
    "                            click_prob=click_probs[i], l=l))\n",
    "    \n",
    "    ts_learner_graph_margins = np.array([])\n",
    "    ts_learner_env_margins = np.array([])\n",
    "\n",
    "    for j in range(0, n_experiments):\n",
    "        ts_single_margin = 0\n",
    "        opt_single_margin = 0\n",
    "        armMargins = []\n",
    "        armConvRates = []\n",
    "\n",
    "        # compute the margin for the TS\n",
    "        pulledArm = tsLearners[i].pull_arm()\n",
    "        for k in range(0, len(pulledArm)):\n",
    "            armMargins.append(config_margins[i][k][pulledArm[k]])\n",
    "            armConvRates.append(conv_rates[i][k][pulledArm[k]])\n",
    "\n",
    "        graphEval = GraphEvaluator(products_list=prod_lists[i], click_prob_matrix=click_probs[i], lambda_prob=lambdas[i],\n",
    "                    alphas=alphas[i], conversion_rates=armConvRates, margins=armMargins, units_mean=units_means[i], verbose=False)\n",
    "\n",
    "        env[i].setPriceLevels(pulledArm)\n",
    "        ts_interactions = env[i].round()\n",
    "        ts_single_margin = graphEval.computeMargin()\n",
    "                    \n",
    "        ts_env_margin = 0\n",
    "        for k in range(0,len(ts_interactions)):\n",
    "            # ts_env_margin = 0\n",
    "            ts_env_margin = ts_env_margin + ts_interactions[k].linearizeMargin(config_margins[i])\n",
    "        ts_env_margin = ts_env_margin / len(ts_interactions)\n",
    "\n",
    "        tsLearners[i].update(ts_interactions, pulledArm)\n",
    "\n",
    "        ts_learner_graph_margins = np.append(ts_learner_graph_margins, ts_single_margin)\n",
    "        ts_learner_env_margins = np.append(ts_learner_env_margins, ts_env_margin)\n",
    "\n",
    "    opt_arms = optimal_arms[i]\n",
    "    armMargins = []\n",
    "    armConvRates = []\n",
    "    for k in range(0, len(opt_arms)):\n",
    "        armMargins.append(config_margins[i][k][opt_arms[k]])\n",
    "        armConvRates.append(conv_rates[i][k][opt_arms[k]])\n",
    "    graphEval = GraphEvaluator(products_list=prod_lists[i], click_prob_matrix=click_probs[i], lambda_prob=lambdas[i],\n",
    "                    alphas=alphas[i], conversion_rates=armConvRates, margins=armMargins, units_mean=units_means[i], verbose=False)\n",
    "    \n",
    "    optimal = np.full((n_experiments), clairvoyant_opt_rew[i])\n",
    "    # optimal = np.full((n_experiments), graphEval.computeMargin())\n",
    "    \n",
    "    config_name = files[i][files[i].rfind('/')-len(files[i])+1:]\n",
    "\n",
    "    x = np.linspace(0, n_experiments, n_experiments)\n",
    "    axes[i,0].plot(x, optimal)\n",
    "    axes[i,0].plot(x, ts_learner_graph_margins)\n",
    "    # axes[i,0].plot(x, ts_learner_env_margins)\n",
    "    axes[i,0].set_xlabel(\"Time step\")\n",
    "    axes[i,0].set_ylabel(\"Margins difference\\n{}\".format(config_name))\n",
    "    axes[0,0].set_title(\"Difference between margins of BruteForce and TS\")\n",
    "\n",
    "    axes[i,1].plot(x,optimal)\n",
    "    cum_rews = np.cumsum(ts_learner_graph_margins)\n",
    "    avg_cum_rews = np.divide(cum_rews, np.arange(1,n_experiments+1))\n",
    "    axes[i,1].plot(x, avg_cum_rews)\n",
    "    cum_rews = np.cumsum(ts_learner_env_margins)\n",
    "    avg_cum_rews = np.divide(cum_rews, np.arange(1,n_experiments+1))\n",
    "    axes[i,1].plot(x, avg_cum_rews)\n",
    "    axes[i,1].set_xlabel(\"Time step\")\n",
    "    axes[i,1].set_ylabel(\"Margin\")\n",
    "    axes[0,1].set_title(\"Average reward: Clairvoyant vs TS\")\n",
    "    print(\"Optimal arm found:\\n\\t\", tsLearners[i].pull_arm(), \"\\nOptimal theoretical arm:\\n\\t\", optimal_arms[i])\n",
    "\n",
    "plt.show()\n"
   ]
  }
 ],
 "metadata": {
  "interpreter": {
   "hash": "14160fb0de3f36180f5e1dd791af52bebcb3f3583a6e540ccb943ed2b61e8d42"
  },
  "kernelspec": {
   "display_name": "Python 3.9.13 64-bit (windows store)",
   "language": "python",
   "name": "python3"
  },
  "language_info": {
   "codemirror_mode": {
    "name": "ipython",
    "version": 3
   },
   "file_extension": ".py",
   "mimetype": "text/x-python",
   "name": "python",
   "nbconvert_exporter": "python",
   "pygments_lexer": "ipython3",
   "version": "3.9.13"
  }
 },
 "nbformat": 4,
 "nbformat_minor": 0
}
