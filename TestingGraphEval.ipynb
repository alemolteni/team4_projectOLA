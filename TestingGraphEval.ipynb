{
 "cells": [
  {
   "cell_type": "code",
   "execution_count": 1,
   "outputs": [],
   "source": [
    "from Environment import *\n",
    "import matplotlib.pyplot as plt\n",
    "from Model.Evaluator.GraphEvaluator import *\n",
    "from Learner.BruteForce import *\n",
    "from Learner.UCB.UCB_Step4 import *\n",
    "from Model.ConfigurationParametersAverage import mergeUserClasses\n",
    "from scipy.stats import gamma\n",
    "import time"
   ],
   "metadata": {
    "collapsed": false,
    "pycharm": {
     "name": "#%%\n"
    }
   }
  },
  {
   "cell_type": "code",
   "execution_count": 2,
   "outputs": [
    {
     "name": "stdout",
     "output_type": "stream",
     "text": [
      "ProdList=5, Alphas=5, ConvRates=5\n",
      "[0.2642857142857143, 0.22142857142857142, 0.21714285714285714, 0.14857142857142858, 0.14857142857142858]\n"
     ]
    }
   ],
   "source": [
    "#files = ['./Configs/config1.json', './Configs/config2.json','./Configs/config3.json', './Configs/configDump.json', './Configs/configuration4.json', './Configs/configuration5.json']\n",
    "files = ['./Configs/config2.json']\n",
    "env = []\n",
    "config_margins = []\n",
    "optimal_arms = []\n",
    "conv_rates = []\n",
    "prod_lists = []\n",
    "click_probs = []\n",
    "lambdas = []\n",
    "alphas = []\n",
    "units_means = []\n",
    "clairvoyant_opt_rew = []\n",
    "secondary = []\n",
    "actual_unit_mean = []\n",
    "\n",
    "for i in range(0, len(files)):\n",
    "    env.append(Environment(config_path=files[i]))\n",
    "    config = mergeUserClasses([files[i]], False)[0]\n",
    "    config_margins.append(config[\"marginsPerPrice\"])\n",
    "    optimal_arms.append(config[\"optimalConfig\"])\n",
    "    conv_rates.append(config[\"conversionRateLevels\"])\n",
    "    prod_lists.append(config[\"productList\"])\n",
    "    print(\"ProdList={}, Alphas={}, ConvRates={}\".format(len(config[\"productList\"]),len(config[\"alphas\"]),len(config[\"conversionRateLevels\"])))\n",
    "    click_probs.append(config[\"click_prob\"])\n",
    "    lambdas.append(config['lambda_p'])\n",
    "    alphas.append(config[\"alphas\"])\n",
    "    clairvoyant_opt_rew.append(config[\"optimalMargin\"])\n",
    "    units_means.append(config[\"units_mean\"])\n",
    "    actual_unit_mean.append(config[\"actual_units_mean\"])\n",
    "\n",
    "print(alphas[0])"
   ],
   "metadata": {
    "collapsed": false,
    "pycharm": {
     "name": "#%%\n"
    }
   }
  },
  {
   "cell_type": "code",
   "execution_count": 3,
   "outputs": [
    {
     "name": "stdout",
     "output_type": "stream",
     "text": [
      "config2.json optimal is:  [1, 1, 1, 1, 1] 7.467142857142857\n",
      "config2.json second optimal is:  [1, 1, 1, 1, 2] 7.3185714285714285\n"
     ]
    }
   ],
   "source": [
    "#Brute force to find best configuration\n",
    "n_experiments = 1024\n",
    "\n",
    "for i in range(0, len(env)):\n",
    "    maxMargin = -1\n",
    "    optConf = [0, 0, 0, 0, 0]\n",
    "    secondBestMargin = -1\n",
    "    secondOptimal = [0, 0, 0, 0, 0]\n",
    "    learner = BruteForce()\n",
    "\n",
    "    for j in range(0, n_experiments):\n",
    "\n",
    "        pulledArm = learner.pull_arm()\n",
    "\n",
    "        armMargins = []\n",
    "        armConvRates = []\n",
    "\n",
    "        for k in range(0, len(pulledArm)):\n",
    "            armMargins.append(config_margins[i][k][pulledArm[k]])\n",
    "            armConvRates.append(conv_rates[i][k][pulledArm[k]])\n",
    "\n",
    "        graphEval = GraphEvaluator(products_list=prod_lists[i], click_prob_matrix=click_probs[i],\n",
    "                                   lambda_prob=lambdas[i],\n",
    "                                   alphas=alphas[i], conversion_rates=armConvRates, margins=armMargins,\n",
    "                                   units_mean=actual_unit_mean[i], verbose=False, convert_units=False)\n",
    "\n",
    "        TotMargin = graphEval.computeMargin()\n",
    "\n",
    "        learner.update(TotMargin)\n",
    "        if TotMargin > maxMargin:\n",
    "            maxMargin = TotMargin\n",
    "            optConf = pulledArm\n",
    "        if TotMargin < maxMargin and TotMargin > secondBestMargin and pulledArm != secondOptimal:\n",
    "            secondBestMargin = TotMargin\n",
    "            secondOptimal = pulledArm\n",
    "\n",
    "    config_name = files[i][files[i].rfind('/')-len(files[i])+1:]\n",
    "    print(config_name, \"optimal is: \", optConf, maxMargin)\n",
    "    print(config_name, \"second optimal is: \", secondOptimal, secondBestMargin)"
   ],
   "metadata": {
    "collapsed": false,
    "pycharm": {
     "name": "#%%\n"
    }
   }
  },
  {
   "cell_type": "code",
   "execution_count": 4,
   "outputs": [
    {
     "name": "stdout",
     "output_type": "stream",
     "text": [
      "RMSE:  2.4948686294310596\n",
      "% error:  35.95651720407127\n",
      "config2.json optimal is:  [0, 1, 1, 1, 1] 6.938571428571429\n",
      "config2.json second optimal is:  [0, 1, 1, 1, 2] 6.79\n"
     ]
    }
   ],
   "source": [
    "# Check difference between Graph eval e environment margin\n",
    "n_experiments = 100\n",
    "n_user = [100, 70, 80, 95]\n",
    "\n",
    "for i in range(0, len(env)):\n",
    "    maxMargin = -1\n",
    "    optConf = [0, 0, 0, 0, 0]\n",
    "    secondBestMargin = -1\n",
    "    secondOptimal = [0, 0, 0, 0, 0]\n",
    "    learner = BruteForce()\n",
    "    rmse = 0\n",
    "\n",
    "    for j in range(0, n_experiments):\n",
    "        armMargins = []\n",
    "        armConvRates = []\n",
    "        pulledArm = learner.pull_arm()\n",
    "        #print(pulledArm)\n",
    "        for k in range(0, len(pulledArm)):\n",
    "            armMargins.append(config_margins[i][k][pulledArm[k]])\n",
    "            armConvRates.append(conv_rates[i][k][pulledArm[k]])\n",
    "\n",
    "        graphEval = GraphEvaluator(products_list=prod_lists[i], click_prob_matrix=click_probs[i], lambda_prob=lambdas[i],\n",
    "                    alphas=alphas[i], conversion_rates=armConvRates, margins=armMargins, units_mean=actual_unit_mean[i], verbose=False, convert_units=False)\n",
    "\n",
    "        tempMargin = graphEval.computeMargin()\n",
    "\n",
    "        env[i].setPriceLevels(pulledArm)\n",
    "        mc_margin = 0\n",
    "        start = time.time()\n",
    "        for exp in range(0, 100):\n",
    "            interactions = env[i].round()\n",
    "            mc = 0\n",
    "            for k in range(0, len(interactions)):\n",
    "                mc = mc + interactions[k].linearizeMargin(config_margins[i])\n",
    "            mc_margin += mc / len(interactions)\n",
    "\n",
    "        mc_margin = mc_margin / 100 # (100*n_user[i])\n",
    "        #print(tempMargin, mc_margin)\n",
    "        rmse += (tempMargin - mc_margin)**2\n",
    "\n",
    "        learner.update(tempMargin)\n",
    "        if tempMargin > maxMargin:\n",
    "            maxMargin = tempMargin\n",
    "            optConf = pulledArm\n",
    "        if tempMargin < maxMargin and tempMargin > secondBestMargin and pulledArm != secondOptimal:\n",
    "            secondBestMargin = tempMargin\n",
    "            secondOptimal = pulledArm\n",
    "\n",
    "    config_name = files[i][files[i].rfind('/')-len(files[i])+1:]\n",
    "    rmse = math.sqrt(rmse/n_experiments)\n",
    "    print(\"RMSE: \", rmse)\n",
    "    print(\"% error: \", (rmse/maxMargin)*100)\n",
    "    print(config_name, \"optimal is: \", optConf, maxMargin)\n",
    "    print(config_name, \"second optimal is: \", secondOptimal, secondBestMargin)"
   ],
   "metadata": {
    "collapsed": false,
    "pycharm": {
     "name": "#%%\n"
    }
   }
  },
  {
   "cell_type": "code",
   "execution_count": 10,
   "outputs": [
    {
     "ename": "KeyboardInterrupt",
     "evalue": "",
     "output_type": "error",
     "traceback": [
      "\u001B[1;31m---------------------------------------------------------------------------\u001B[0m",
      "\u001B[1;31mKeyboardInterrupt\u001B[0m                         Traceback (most recent call last)",
      "Input \u001B[1;32mIn [10]\u001B[0m, in \u001B[0;36m<cell line: 3>\u001B[1;34m()\u001B[0m\n\u001B[0;32m     15\u001B[0m env[i]\u001B[38;5;241m.\u001B[39msetPriceLevels(pulledArm)\n\u001B[0;32m     16\u001B[0m \u001B[38;5;28;01mfor\u001B[39;00m \u001B[38;5;28miter\u001B[39m \u001B[38;5;129;01min\u001B[39;00m \u001B[38;5;28mrange\u001B[39m(\u001B[38;5;241m0\u001B[39m, \u001B[38;5;241m100\u001B[39m):\n\u001B[1;32m---> 17\u001B[0m     rew \u001B[38;5;241m=\u001B[39m \u001B[43menv\u001B[49m\u001B[43m[\u001B[49m\u001B[43mi\u001B[49m\u001B[43m]\u001B[49m\u001B[38;5;241;43m.\u001B[39;49m\u001B[43mround\u001B[49m\u001B[43m(\u001B[49m\u001B[43m)\u001B[49m\n\u001B[0;32m     18\u001B[0m     oldTotMargin \u001B[38;5;241m=\u001B[39m TotMargin\n\u001B[0;32m     19\u001B[0m     \u001B[38;5;28;01mfor\u001B[39;00m e \u001B[38;5;129;01min\u001B[39;00m rew:\n",
      "File \u001B[1;32m~\\PycharmProjects\\team4_projectOLA\\Environment.py:72\u001B[0m, in \u001B[0;36mEnvironment.round\u001B[1;34m(self)\u001B[0m\n\u001B[0;32m     70\u001B[0m     userClass\u001B[38;5;241m.\u001B[39mgenerateNewAlphas()\n\u001B[0;32m     71\u001B[0m     \u001B[38;5;28;01mfor\u001B[39;00m i \u001B[38;5;129;01min\u001B[39;00m \u001B[38;5;28mrange\u001B[39m(\u001B[38;5;241m0\u001B[39m,dailyUsers):\n\u001B[1;32m---> 72\u001B[0m         episodes\u001B[38;5;241m.\u001B[39mappend(\u001B[43muserClass\u001B[49m\u001B[38;5;241;43m.\u001B[39;49m\u001B[43mgenerateEpisode\u001B[49m\u001B[43m(\u001B[49m\u001B[43m)\u001B[49m)\n\u001B[0;32m     73\u001B[0m \u001B[38;5;28;01mreturn\u001B[39;00m  episodes\n",
      "File \u001B[1;32m~\\PycharmProjects\\team4_projectOLA\\Model\\UserClass.py:131\u001B[0m, in \u001B[0;36mUserClass.generateEpisode\u001B[1;34m(self)\u001B[0m\n\u001B[0;32m    128\u001B[0m \u001B[38;5;28mself\u001B[39m\u001B[38;5;241m.\u001B[39mhistory[currentProduct] \u001B[38;5;241m=\u001B[39m \u001B[38;5;241m0\u001B[39m\n\u001B[0;32m    130\u001B[0m userInteractions \u001B[38;5;241m=\u001B[39m \u001B[38;5;28mself\u001B[39m\u001B[38;5;241m.\u001B[39mgenerateProductInteraction(currentProduct)\n\u001B[1;32m--> 131\u001B[0m userInteractions\u001B[38;5;241m.\u001B[39msetFeatures(\u001B[38;5;28mself\u001B[39m\u001B[38;5;241m.\u001B[39mfeatures_names, \u001B[38;5;28;43mself\u001B[39;49m\u001B[38;5;241;43m.\u001B[39;49m\u001B[43mgenerateFeature\u001B[49m\u001B[43m(\u001B[49m\u001B[43m)\u001B[49m)\n\u001B[0;32m    132\u001B[0m \u001B[38;5;28;01mreturn\u001B[39;00m userInteractions\n",
      "File \u001B[1;32m~\\PycharmProjects\\team4_projectOLA\\Model\\UserClass.py:143\u001B[0m, in \u001B[0;36mUserClass.generateFeature\u001B[1;34m(self)\u001B[0m\n\u001B[0;32m    142\u001B[0m \u001B[38;5;28;01mdef\u001B[39;00m \u001B[38;5;21mgenerateFeature\u001B[39m(\u001B[38;5;28mself\u001B[39m):\n\u001B[1;32m--> 143\u001B[0m     gen_arr \u001B[38;5;241m=\u001B[39m \u001B[43mnp\u001B[49m\u001B[38;5;241;43m.\u001B[39;49m\u001B[43mrandom\u001B[49m\u001B[38;5;241;43m.\u001B[39;49m\u001B[43mrand\u001B[49m\u001B[43m(\u001B[49m\u001B[38;5;28;43mlen\u001B[39;49m\u001B[43m(\u001B[49m\u001B[38;5;28;43mself\u001B[39;49m\u001B[38;5;241;43m.\u001B[39;49m\u001B[43mfeatures_prob\u001B[49m\u001B[43m)\u001B[49m\u001B[43m)\u001B[49m\n\u001B[0;32m    144\u001B[0m     \u001B[38;5;28;01mreturn\u001B[39;00m gen_arr \u001B[38;5;241m<\u001B[39m \u001B[38;5;28mself\u001B[39m\u001B[38;5;241m.\u001B[39mfeatures_prob\n",
      "\u001B[1;31mKeyboardInterrupt\u001B[0m: "
     ]
    }
   ],
   "source": [
    "n_experiments = 1024\n",
    "\n",
    "for i in range(0, len(env)):\n",
    "    maxMargin = -1\n",
    "    optConf = [0, 0, 0, 0, 0]\n",
    "    secondBestMargin = -1\n",
    "    secondOptimal = [0, 0, 0, 0, 0]\n",
    "    learner = BruteForce()\n",
    "\n",
    "    for j in range(0, n_experiments):\n",
    "\n",
    "        pulledArm = learner.pull_arm()\n",
    "\n",
    "        TotMargin = 0\n",
    "        env[i].setPriceLevels(pulledArm)\n",
    "        for iter in range(0, 100):\n",
    "            rew = env[i].round()\n",
    "            oldTotMargin = TotMargin\n",
    "            for e in rew:\n",
    "                if e.bought:\n",
    "                    TotMargin += config_margins[i][e.product][pulledArm[e.product]] * e.units\n",
    "            #print(TotMargin-oldTotMargin)\n",
    "\n",
    "\n",
    "        TotMargin = TotMargin / 100\n",
    "\n",
    "        learner.update(TotMargin)\n",
    "        if TotMargin > maxMargin:\n",
    "            maxMargin = TotMargin\n",
    "            optConf = pulledArm\n",
    "        if TotMargin < maxMargin and TotMargin > secondBestMargin and pulledArm != secondOptimal:\n",
    "            secondBestMargin = TotMargin\n",
    "            secondOptimal = pulledArm\n",
    "\n",
    "    config_name = files[i][files[i].rfind('/')-len(files[i])+1:]\n",
    "    print(config_name, \"optimal is: \", optConf, maxMargin)\n",
    "    print(config_name, \"second optimal is: \", secondOptimal, secondBestMargin)"
   ],
   "metadata": {
    "collapsed": false,
    "pycharm": {
     "name": "#%%\n"
    }
   }
  },
  {
   "cell_type": "code",
   "execution_count": null,
   "outputs": [],
   "source": [
    "# Compute actual mean of products\n",
    "\n",
    "units_means = [[0.75, 1.25, 1.6, 2.1, 0.94], #Conf1 - conf2 - conf3 - confDump\n",
    "               [1.5, 1.25, 1.6, 1.9, 1.5], #Conf4\n",
    "               [1.8, 1.5, 1.8, 1.9, 1.9], #Conf4\n",
    "               [1.6, 1.9, 1.2, 1.5, 1.9], #Conf4\n",
    "               [0.75, 1.25, 1.6, 2.1, 0.94],#Conf5\n",
    "               [1.25, 1.25, 2.5, 2.1, 1], # Conf5\n",
    "               [0.94, 1.45, 1.2, 2.0, 1.5]] #Conf5\n",
    "for units_mean in units_means:\n",
    "    actual_means = []\n",
    "    for i in range(0,len(units_mean)):\n",
    "        # empiric_mean = np.ceil(np.random.gamma(units_mean[i], 1, size=1000000)).mean()\n",
    "        # New method using cumulative distribution, difference empiric and theoretic < 0.01\n",
    "        significant = True\n",
    "        theoretic_mean = 0\n",
    "        num = 1\n",
    "        while significant:\n",
    "            t = (gamma.cdf(num, a=units_mean[i]) - gamma.cdf(num - 1, a=units_mean[i])) * num\n",
    "            theoretic_mean += t\n",
    "            num += 1\n",
    "            if t < 0.01:\n",
    "                significant = False\n",
    "                actual_means.append(int(theoretic_mean*100) / 100)\n",
    "    print(actual_means)"
   ],
   "metadata": {
    "collapsed": false,
    "pycharm": {
     "name": "#%%\n"
    }
   }
  }
 ],
 "metadata": {
  "kernelspec": {
   "display_name": "Python 3",
   "language": "python",
   "name": "python3"
  },
  "language_info": {
   "codemirror_mode": {
    "name": "ipython",
    "version": 2
   },
   "file_extension": ".py",
   "mimetype": "text/x-python",
   "name": "python",
   "nbconvert_exporter": "python",
   "pygments_lexer": "ipython2",
   "version": "2.7.6"
  }
 },
 "nbformat": 4,
 "nbformat_minor": 0
}